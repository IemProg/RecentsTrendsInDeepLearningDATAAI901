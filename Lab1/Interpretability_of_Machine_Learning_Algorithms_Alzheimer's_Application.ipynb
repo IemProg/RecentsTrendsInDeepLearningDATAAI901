{
 "cells": [
  {
   "cell_type": "markdown",
   "metadata": {
    "id": "8s-Vt3AOdRjv"
   },
   "source": [
    "# Interpretability of Machine Learning algorithms @ 2021\n",
    "  ### Mohamed Ibn Khedher & Mounim A. El-Yacoubi"
   ]
  },
  {
   "cell_type": "markdown",
   "metadata": {},
   "source": [
    "The first step before launching the notebook, is to manually upload the attached dataset file \"oasis_longitudinal.csv\" on google colab  \n",
    "\n",
    "-------------\n",
    "\n",
    "\n",
    "$$TODO$$: \n",
    "\n",
    "shape_value is a matrix, the first dimension corresponding to the class to be explained and the second dimension corresponding to the sample of the database. \n",
    "\n",
    "For each classifier \n",
    "\n",
    "1. Show and interpret the local explanation of some dataset input using shape_value[xxx][xxx] \n",
    "\n",
    "2. Interpret the global explanation (over the entire dataset) already computed in this lab. \n",
    "\n",
    "We are expecting that you send to Dr Ibn Khedher and myself your report by Monday January 24th. You should answer the qu\"TO DO\" quesions, and also provide as many observations and comments as you wish of the results you obtain (changing the input, etc.)\n",
    "\n",
    "----------\n",
    "You report should be sent by Tuesday 25th of January."
   ]
  },
  {
   "cell_type": "markdown",
   "metadata": {
    "id": "Q8BkpM_Mf23W"
   },
   "source": [
    "**SHAP (SHapley Additive exPlanations)**\n",
    "\n",
    "SHAP (SHapley Additive exPlanations) by Lundberg and Lee (2016) [1] is a method to explain individual predictions. SHAP is based on the game theoretically optimal Shapley Values.\n",
    "\n",
    "The goal of SHAP is to explain the prediction of an instance x by computing the contribution of each feature to the prediction. The SHAP explanation method computes Shapley values from coalitional game theory. The feature values of a data instance act as players in a coalition. Shapley values tell us how to fairly distribute the “payout” (= the prediction) among the features. A player can be an individual feature value, e.g. for tabular data. A player can also be a group of feature values. For example to explain an image, pixels can be grouped to super pixels and the prediction distributed among them. One innovation that SHAP brings to the table is that the Shapley value explanation is represented as an additive feature attribution method, a linear model. That view connects LIME and Shapley Values. SHAP specifies the explanation as:\n",
    "![Sans titre.png](data:image/png;base64,iVBORw0KGgoAAAANSUhEUgAABIkAAADOCAIAAAA1wsXIAAAAAXNSR0IArs4c6QAAAARnQU1BAACxjwv8YQUAAAAJcEhZcwAAFiUAABYlAUlSJPAAAE8ESURBVHhe7d3fhxvfHz/w7/+Uq7kIYVn2Yq82vjQsjV68V2lYGqXRi64PK28qlm/sRaVUvGmUt+xFZal9U1JWerGmlJS3LCUXSyjDXgyh3/Nz5sycM5kz+bFJ3/t8KO/3ZrPz48yZc85r5vz4P78AAAAAAABg3RCbAQAAAAAArB9iMwAAAAAAgPVDbAYAAAAAALB+iM0AAAAAAADWD7EZAAAAAADA+iE2AwAAAAAAWD/EZgAAAAAAAOuH2AwAAAAAAGD9EJsBAAAAAACsH2IzAAAAAACA9UNsBgAAAAAAsH6IzQAAAAAAANYPsRkAAAAAAMD6ITYDAAAAAABYP8RmAAAAAAAA64fYDAAAYPnG78u5UKV7Iz6PmA5be+Ib1PMLT/wCAADuI8RmAAAAKzLpHfKoy2l+FR+pRu9E/FZ6NxIfAQDAPYbYDAAAYDWmg0auVNqn0Vfto/ZK7KZbeVit/l/yy93Wd/EZAADcZ4jNAAAAVuN7azff7J1VSPh18PdYfCh4F89LzX+6NRq4NQZT8SkAANxniM0AAABWYkKisuO+/6VB468TV3zK+J/rxVeDyec6/RWGmQEAAIPYDAAAYBX8/nGu8mFC356RAOxJdyI+J79xG3v1/u2v4Rv6G+2VGgAA3FOIzQAAAFbBbeZLnWs2roxEYLutofichGQlGrP9Gnf/YL/AYDMAAGAQmwEAAKzAdaeUb7h0IJnLOjXKQWXXnfKT7pj8v3fBBpvV+z77HAAA7j3EZgAAAMs3+cAGm9H/HXXoVI1sibPpuPukTF+mEXwc2mEv7OsIAAD3G2IzAACApWODzc542OVdPKdRWOPql/exVnoj+jbywWZY2QwAAAKIzQAAAJZu2NoNB5K5JzQ2q/3dre81Brf8s0n3CfnMvCY1AADcT4jNAAAAlu26U1JWLaOT6VNO/bMcW4bBZgAAoEFsBgAAsFRTb3BSzO23h8GK0mxomaOuY3bVcMhHf3QxfT4AAAQQmwEAACyLP/iTxlyB8nsWfH1v7eYrvRv6v6O3RfE7qfA6siw1AADcW4jNAAAAAAAA1g+xGQAAAAAAwPohNgMAAAAAAFg/xGYAAAAAAADrh9gMAAAAAABg/RCbAQAAAAAArB9iMwAAgGz8H+7gcrDyf98nYn8AAHA/IDYDAADIxj2NLGK2Kvn6wBd7BACA+wCxGQAAQEa3/XpeBFBc+d1I/CoL3/O8n5PR1aB/1m68OChuia0Fquee+CoAANwDiM0AAAAy868aRRFAccXG1RJecnnX/faLckFsM5d72BmL3wAAwH8fYjMAgP8o+lIGXeJWaPgmGp3tNga34leLuhm0HvMAbbf1TXwGAAD/eYjNAAD+i7yLI9rprtD4gvBsZabj7mFk4Jlz2Fva9B1Tb3BaIlt3/tzgQWe3nrescBQAABCbAQBsKn/4puzstdy5Gub+5zqPFmofxYAl/2urmC+3viFUW6pxtxIZeOZUzpbYCdF3T4q5XLnzQ/y8Wf5t0/eG+YPuZh4eAMBvCLEZAMAGYo3yfKU7bztfTCQYnehvfFZxljQsauWuGk7u6OJ3mAiDhMHRSRuLre/iV0swHbb2cruvh+LHLNwTJ/dyhUk4eldi57u7zPMFALjfEJsBAGwcFkQ59c9zB1Gjzj5rNcfb9H7/2Fkk5LsztN2/35ln6sM14G+3FHsNd3k9/ehaal9G2UMsmgdKc80eaWfSO2Qni9lKAACWB7EZAMCGuelV8jnn+QJvPLyLGm01lzrX4oPQz4taPpd70t3sVY1pu985ccVPm4+93VLtvlr3ILFJr5JzGlfip+Xz+7zXLGb5BwBYIsRmAAAbhb3aWrBf3JcGbTUnvNBgsws6wTi0TTQdkBPY6CPUrXbgWXY0D9RW2KPxe2uXnma9jwGMAADLg9gMAGCT/OiUSYt3sX5iwze02Zz4QmMZu1it607J+NJvubz+0Vax/a/4aXGsJ6pirX1HV90pdPz3ATnFjZ5DEgDgN4TYDABggwxf07CqcrZIl0M2ECg6C0jUpPuE7GRzp3DwPtZy+YY7FT+uyk23kssttdcff+ep2GsNV30WZt7F85V2CqXbx9prAABLh9gMAGBzDFlHscVeGbGBQLNn9uMz7O2+mWf2vzsweJXLLTLcztLyY7Nfv27dRnTgWfFkvkUQFrPyTqFuM49ZQAAAlg+xGQDAxqB9+YjGQu876KpTaStiXbEBaX9s5nyNq55gUFpFbEZ8b0Unbdxdw/Lfq+4UyjIqZgEBAFg6xGYAAHdl6g3Pm7VH27Tf21a59t71fo7cy8FQdmCkffmIw97sHo3e917jabGQKxSftodirnY2jXvwh7dpwQCdxI9Y5VwRWflj96xZe1zaFjNqONsPqvX3/Tkmj7e1othsfQPPSBJ2T2sHD1gGo/vdLj2tdz6NvOz9KieXbZpR89vl44sx//PpuHvo7J7S14DeP0czO80CAMCcEJsBANyJ8cXRA9JmLh6dDUlb2fveCaf1k+OC+BwewY9G/lVDfS3jPGgOPBYMZAsAXPbizO7VytT3fnrZ/1m33KeTweuDQi5XeFjvXI7GH4/o7H8/J6NPrYMtEmCUmitaLHtlsRkPY9j1EZzDrohwVuRm0HpMk7B83Blcjy9e5nLHfW8y6rOEJZkk03prsdiy8IwcPAv+lXXb/NT4HwAAskNsBgCwemKCdaf+KXwNNH5Pp0skgnFB7gn9cdYwMH9Qz+eKL0n7e+L9GA7O27WHpO1NFBvZAhg+sM0qMhn9xTpaZlZofRVbmGXSr9MBWk7l3YifgHvihC8ASbqRX+YrvRv+81KtLjYjbgcNlsKB4spG900+12m4nq90/mVJOHUb+Vzlg0zCv2kSOmkvY0N0Gk+nfNob/vAm127/rFHZYZHa77BkOQDA7w6xGQDAik3HbF7E+IrPogdj+PKKT584c5JGf+xeumM1ChtfHO0V659tG96S3Jdswa+HnDmj8pcIzLTBZn7/mH4hjFdvR72TyvZOsfSgWDxs9Hg0Mp+VxmbaG87s8bMVuZdKO0iK2GAzsUi0aVrOW7f5wMltNSK9E3+OBpeRnqT+t1Z5SwZ+AACwSojNAABWi8RgvIdYbN48+oKIyDdlF0aL2CzK/7dT2So1v8wxJCvzvlbAu3jOUuBhZxT096PxUiSK4O8SRVjru829sH8g63pnsUj3bayzpfz3vXOQy9U/aZ/zf94SQhG2zLditzHI0rcw3c+LGusZW1amTpmc0SRUXtLx/quma/2je5DPFZ7NeqVGX8ptVbuzp5YBAIAlQWwGALBSIgrSJt4QvQpzx30ZBGSLl8YfjxZoNG9AbMaXwI5O98feJdaDFKGdGv9gX2JT6vNeoI0v4nd8pvjY20gNW+1tDmHMvIDYwLNldwuU3WKrvZ/iExbxqpmKJiFdJXqeKfX94ZtygQ1oBACAu4HYDABglXj8QOx3IrPCi+ny1V6F1vHS1HNJo/lRy52/0bz+2Ex26ayob23ou0R1ZbOfvSr7Uvk9iWn4MR8o4Q2P3Crd+UajrbhPo3DTk5O+LL1PI18AOjqxJxtspoZh3rlIwpRlFWKm497LYvFlb7VTmAAAQBRiMwCAVWIBAOGcRl7DaIPNqPS5QIjpuPusEG80TyfDS3ecob/c+ucCoV3vKHUxN3pUarg4esfeC+XrfXpqvG+eGomJCHPO+OpuYjMxps6pnC19Jg1x+pGJPb/TJAyTaDrqPKRfcdQ3aST7fW1X9orFncL2YbAMg8IbNB8Uym/cyOT7t2P3cjhBqAYAsEqIzQAAVsm7EK+HIm+oxBQX0XFBJBRhUdCMOfRvh61HTvFkEFuxis7Fl229KR7nmOaH0K1oDn0aRRBKD0ba+045JDG5pXzdJKJcQ2w259u/O4jNRJ/GVQRmlFh0QYm7xn/TJAwylZgNX5n7nqDTh+w1Bt4v/5LOEhKfD4bOLuNU/o4dsD94tZt72NFPY/yhWsg5B/HvAwDAPBCbAQCslIgflLkHf3lf5Ax+sbcZs9ee5rPq5QrF/dLBi0bnfDD84Y2/9drPS+RTrTE900asPT3psbFYwZHT0883XB52/uhWt8gvlSkof7/YjK0JRs7hhK7XvBKiw2QwjI32cnRkbD8+I1ETCczqfTV5psPWnphAhQZysXFo4x5N9vx2ab9UPW53P7mjm8nostugi6ftNr7o50FitkIuX2p9XdUpAgDcK4jNAABWy//apC30vcbgJ/lhzNdZ5uLTM4hBaGo3vwCLZPaOut8mk28dFreEin/2s3U2u2KvzWJD4O4e7TtHo82D14PxLWnl53IveuMfbveELUX9uDVQB5L9brEZf2e16lWnvS/NEgnPtg5al2Pfp4Mba+fj8RWPpmjCxjMGfQvK4yj+8lYZv8enwXzUHJCY/1ODbjYULkAHAACrg9gMAGDlvO+9xtPSNm1DF6sn3d7/49PrqWEGx4eBRQahcd6nI0ed5W8yaB1uOzln+1GtfZk5MuGdJ1MGtt2NqTf61Kk/LRVFtOlsPzionXYH1/obvd9pvBlfD9p51DKM5lo6b9R/X6/uF0XMn98uPa41zwaRRcp0bNYQtQMkHVio9H70/+3W6crmheLTRu/7Ol+wAgDcH4jNAADumJxeLzrYjBu+psHZnC+CbPGQZrf1Tfy8EWIrJhvww1a/QxeqNoW4dlYWm4n1oKOjvO4ADbnt34Xy8X7RXrUZTMe943Jxr1jYKtc/ZulPCwAAyRCbAQDcLf6+IheOC4rgq36ZJl1YmjvYRXZssFnKkmJ8asf6ZxlN+H06l0XK+mbJVhSb8SlMlr2UmQU22Cw6HegMPDHnfApA5zgpsIGCYzoP5FLWggMAAMRmAAArdDtsPy1u71Qir4O+8fkJnfql8Y0FaWE7uZyYrWEVhm9ob7swwtkIbOxT6jscOo8FDcb4CC46O2Wu2Jx7Fgp/2H5Rv5jvnVsSMWP+0pcys8AiVevLyl/ezn5RmYgE0gW+DB1fvs/0BhgAAOaA2AwAYFXEnPjq24npqM3Xm5oxRQR7n+OoSzAv0c+LWp7sPWEqyLWJr2yW6HbUPS5v7xRLD4rFw0bv302KMFcTmPk/3MGXlLFjVGxls9n4K8dgVsysbj2PnyKfvebVgP0AAACLQmwGALAqYvmpfKXHWsz+eNB8RGeNLzzrjGaORGJT/K3i1ZbfP3bW0d0uDV3ZbM53OJtiRUuZscWjd1+nv5eiE+LbDzb72qQZce7BZhLvGBmfbhQAAOaF2AwAYGVuR73T2oGcQK+wVzp40e4bZiDUsaWxlh1EsZBvHd3tUv0cDS6H2ZYB2CyrWsqM9du0mrXF+3cw+D7zxeN03H/bbJ4NyRGyKWeco38WjKkW6hgJAAA6xGYAAJvJH74pO3vNZTX2/a+tYr7c+rZ5gdlvz3dP6fLfmVeZS+GP3tEV0pa1DN3kA33Hldtru2waycKz3qILr/FZbebuGAkAABrEZgAAAPNbyRrT3rD7kr6II8rvl/Ty9KZX23Gcne3tnUrjfOgtfrQLzsIPAAAaxGYAAABzWvpSZv5k1H9docuUC+XOD/GrTcOnulnxWnwAAPcLYjMAAIB5+N9aZRJE7R1dzPtmy/c876c3uXYHn7rtV7XyDu3DGPGst6nzbEx6h+T4MNgMAGCZEJsBAABkx9eYXrFNmwLR/9Ztnrb7JBb92auS49trL2UsHAAAcIjNAAAAMhJLma1Yvj7YrLFcbpOGo87RxyFdMCBfam7gnJ8AAL8zxGYAAADZTC7bzdPmyv993LSXUr77plzIFbZ3tssv2gPLda4BAMAaYjMAAAAAAID1Q2wGAAAAAACwfojNAAAAAAAA1g+xGQAAAAAAwPohNgMAAAAAAFg/xGYAAAAbxPc8fyr+HwAA7hXEZgAAAMsx/lAt5JyDv8fi50ymvvfD7fyv5OQqXUxPDwBwLyE2AwAAWAp/8KqQy5daXzOvyDw5q+Ty26XH5SJdcxqxGQDAPYXYDAAAYEO4DcRmAAD3GGIzAACADYHYDADgXkNsBgAAsJjpuHdcLu4VC1vl+se5BpsJiM0AAO41xGYAAAALmI67h4UKnf9j3HmYy+WbrvjFHBCbAQDca4jNAAAA5ud9rBWeX3jk/6YDGlnttobkw8+N0n7J4l9zEJk3BLEZAMC9htgMAABgAbeex+Or606JBFavBuyH+SA2AwC41xCbAQAALAGdBz+Xq32kr9DmhdgMAOBeQ2wGAACwOO/iOQmrSp1r9oN1n0YXfRoBAEBCbAYAALCwqdvI53L5hjsVH8wFsRkAwL2G2AwAAGBh31u7JKo67kdeg2XFZxPJHXQXmYcfAAB+W4jNAAAAFjV6R+cBqZxNxM8Z8bFqcScLzMYPAAC/IcRmAAAAC5r0DkksJQabAQAAzAexGQAAwDz8b93mabs//vXrZ69KQrO99kj8BgAAYB6IzQAAAObgNvMkIHOOPg67h04uX2peLTTWDAAAALEZAADAHHz3TbmQK2zvbJdftAeYWREAABaG2AwAAAAAAGD9EJsBAAAAAACsH2IzAAAAAACA9UNsBgAAAAAAsH6IzQAAAAAAANYPsRkAAAAAAMD6ITYDAAAAAABYP8RmAAAAAAAA64fYDAAAAAAAYP0QmwEAAAAAAKwfYjMAAAAAAID1Q2wGAAAAAACwfojNAAAAAAAA1g+xGQAAAAAAwPohNgMAAAAAAFg/xGYAAAAAAADrh9gMAAAAAABg/RCbAQAAAAAArB9iMwAAAAAAgPVDbAYAAAAAALB+iM0AAAAAAADWD7EZAAAAAADA+iE2AwAAAAAAWD/EZgAAAAAAAOuH2AwAAAAAAGD9EJsBAAAAAACsH2IzAAAAAACA9UNsBgAAAAAAsH6IzQAAAAAAANYPsRkAAAAAAMD6ITYDAAAAAABYP8RmAAAAAAAA64fYDAAAAAAAYP0QmwEA3DP+oJ5TnLji8yjvY80R3yB2W9/F5wAAALAiiM0AAO6lr00Reh32JuIjxW2/nue/rvd98RkAAACsFGIzAPhN+J7nIUpYmvHfB7n9UokEX7utofgs4LsnxeqzKg3Nnl944kMAAABYLcRmAPA78C6O6GucQuPL+sOzyVW38bRU3KKRS+6Z6aXTHfvaKtBDKRT3D2qnXfdGfDyTd/E8V/nQa9A/bAym4lPhe6t02Lt4s0t+d/D3WHwIAAAAK4bYDAB+A/5nMUKq9nGtb3Gm494zFgdtHbQ+jSab9BrPvxl2/1di3RSL9cu0VJq6jXypcz3u/kG+X+mq4dx01HlY6Y5HnX3yKwwzAwAAuDuIzQDgN+CesqAjXx+sNRyanFXoYZBgZsbLpBu3e1It7dADdnZK1RPLF1lpppP+ycHBu5H40cwfvKIvu9IT6rpTyjdd9vaMaFyJjwlyjmWyF++ixn4Tf6UGAAAAK4PYDAA2H3+Hk9t9rQ2MulMiksk96Sb1Y/SvmqV8Lrd31P1G31x537pHeyRSKjWv5o8p/ZvR4KxxwLtQJsypGLpivRSj4ZZu8qGSO6ZzfLgn9Mvh28ifF7UHTZf84gvbDgabAQAA3KElx2a8mq+crX/8xSpNuk/oWUZ6Ac1t6g3PjtpfxU/UTZc9mW+kNcF+T5t2djeD1klkvBB/MfJfz8MxLmuGz5Ol7+iWF+9wSp1r8cGa8Hs/OTYjgQ0dFBd9qzZmeT5fu/gpPrAmd5fLFXa2xZyKy4nN/P6xuGo8w8tBZeTzIh/RN2SDzUopr+kkvtPUY7PkDbv/a6vbEq8rl7X9DaPdRKYqRkuTJaf5htMryjsjb6hcrtz5IT4z+NEpi6+l1W4rvlnuRzNMxeuv/2iTafX+i+XPb58lEJvNYZmxGe+pFWlFITa7M5MePZhoOxuxWSZ3dMvzdzgPOwvNSjH1vZ9e7J+frcNeSmzG4xltSvpJ75B+bBvnKOjMlD/ZCzdx41jUhbIpOTM2c5t0sBn9PzGQj23W/9IospdpNKCk49CcpmVreJn1NDk2sq1IEXHvYzNDmmx222jJDBXlnZE3FFF+n1gCjd7RGU+ZtNptxTcLYjPI5L9Y/iA2i7p/hcKieIohNlsPfjDJ/dPujU2PzXjMUz2fq3vddDJ4X6/usQk84pyjT5m2OTs2G7ZYaKZXVzyVTFPVW1tubEYHmzVcHpd+Z0dNzmg6bD2QL/fEi8q1rGxmqFbvWWymu++tT0NFeWf4DZV3aHSY+HhIdLpm7vIyGTLG3ZTJ8J+B8mcDITZbM0OVg9jsziA2EzY8NmPvneaaBWTypXWwlXN2Kq3z4fhWfLiAmbGZDJ/0SefpSmJUZf7p9pcam3kfa+FAMr7l3Vb3XbkSHPlVg7ZEjWtSrxxiMx1iM3b+a4zNntTrD8l/ErpVswccpeM6y6Z3eZkQm8GiUP5sIGNsxse7x6dOFrVjrhYZGz7lj4rFh+E1vhm0X5S36WvQXGHvoH429PS+Q1NveN6oPuDjKJztB9XGefxrsoPZePyxXqZD4QvFp81BkIUstjDD5LJde8T/lmy20fvXF6VwSgtAf+FLO+P25MxsdGuPa+1Po5QjCRpbkrg3xOcNl58df96f3y49bQ2MTWd11/Rrjd73DK8CaCI8LvJ3CuRK1d4OJuphT8fdQ7plJ9ZKux006HV3yKVhPwe3rj8KjnmrWD3pDWPHEpyd+JmZeqNPnfrTEs8w4lKeuZEjUUqH+IUzne/kqtt8cSBWoBKn1h8pX+R5VSEOSWa5aDk1nbhnlnl1wq8I37WzU44nqZl6dq3gopePuyIBJ8EN5Ww/qnW+mi6xMj3grJwwnQze1spiFsFy/Wzki71rsZnF/XUX7QC/X59rFpDxh2qBZNF3GcqENDNjMxkU6akhC88FGpfLjM3oYDMlgORXn74TGMmEyjbYjDCWnLQWkPcgy5Ddq5R8EiSUJPKk+JxsP3JzlaqvzTdXSrE2m8XNzoosu12Qu/K0dhC8tt0qHrxo968jN6Z2E0WqmKQ0SaqtvOt+mOxsd/GKg+cl+qY0UsWU9W9q+ME4fxqekwxf0zwT6fVnX0HPKLuSKkrO4mLx5G1c+cO3FVqE0jPtklLPFk/nJ93BezqgzHhTsHMvdT6bajed6cKpOdZyctekjJGtGRbdtf3NwvdO9+INu8fBXqqtS351Yi2B/ljfpjfqv6/La2cqIsbdCqvyKh8i5Yb/hbU+8sGw3rD25BY6NmMThdA+X0IKGKH8SZXe3o5mCa0MiYpea/tSa5XM7834xYiWQXKCstgIBN4f5lmPX2p+jUuHVTpTGUmy/VJJ5onCy+h8X7fD1iOesuTkS6V9WSo9ag2Vx9viSA4rRZr/SiWSXnutIU8muy0k8N1TvhAQ26z422Lj5Ij+V8ttUVpsJkoQmhFL5JRlWVM87kdOOWZycbQvlq9lx1A6+sjuDZGNKlW2jBIppsmv+G2fy5fa0YDZ/9Yqi19t012L1HbKb4bpVc90fPGSpCvFD0DsZe/oQqlef930ePmorCsl5ulWAjZ+J9Sbr1mqsnSQxxydF0Ev+GT4R7bHrmNJ3nJk+12lOOO7OGrwC8d2Ie7/XOHoHzWlffckcl5BJsztNVyZN9y38krxpNsX41zDAjcwvqBT7VEsS8vr6zxoBlsj+B8evGpW6VGxcwm/2RaZNpE8O3bk7KKL/JwjGf4Hy2DsOOUpF5tfI1d4/PFInDPPhCINndIpnXIvdOs21HNhKVM8abB8r2Rpwu7+0or1eXjfe42nZPsk0m7LjbOLyDPYv+3i7FH4Jv5Voxg+O1iWWbEZfRnF6KkRVG/zL84W1C4ppdOvX1+b/LIlxmYsOym3DB9aVlQexonTbHwRP6fT6mmW/hQvwcKi6f2seG/y8UjmNJY/948uWFqKBHxSTb+5LIu1JLdu84GS7YO9qGVRwq2R26r2orsIEkHclcE3SV2jzNuZ0jZKSBNT28gfvimLI2PJHpSQ1Q/KkfG89EejaVHFxP3sVenXtJfY4imtUoZYV9BialOCF8Wy7BI3b1JFSdiVzCJ5DysOP5K9gpNp9lEZm034bB/7nXgO5uf+sDPWazej+IULKiyeUPKq5cuzpz5KyhgZmmEL3Cyyvmuw5gHbi7xwtY9jfkZ0m+EdFH28G7SaRP0rdx0ttCcfyFUj31EmUgqeC4cBmzk2m/PYki6i9vmiKWCE8id1OU2r9nY0S7AyhKWA+k+WSOp1WSisWKaEPo28DFLbH9MBO1VKjdn4+NfgovJrTBRf9oLnUt4Xnj/UF3Ek0qPn7xx2wvcq3rDLiglHDEangjZNJXgaJzKo7RaM/M91+sf5Sid4OOcNOyJCSG39xGIzf/An+UMn7A5E8MY0OeVv4oMkPMUirShRBNCiuXUlDy8IYNRKRUwKF3kz4H1nc3bnnPrn2Wnwa/iGXZa9ej+oTaeTwSm7tZQn6IQsH+t9ljtl6okfGX4nEMrBTCf9P/kuZDhNaAXcmD2MzD1pq2/YvK8t9qn6ICDYRbH+SWbMqTfgtZoykse/ZIe3W78Izov40avRAj0XeQLHDybazuZZLiyn6Dq89A8Lz9Sc5vIbWL2rg7wayZMiJ6Q2yk1n5/Xr7Po6+Vzxz754KkZOmS9gpWbyaz5FWKH6XskJJA159ghP2XDXyK8Ramxme39pxXpmYf3BkHbVwPs1Pqs4alR/m5KZ40hraS+9HMhuVmwWFlZaasz4la2gWEgpncJvGmKzcCo5jrew6XO3Io/hvYsjkRkCVYsGhV5Pj9ldU2x8CbO9rAiqvZT5KuMtLSK8uR613ODPTTeXfbFmYsz2A/44Q74R8vvH7DsPGsouxj3ext1jyw9w/oDdv7v1f5QUJN98zu5fpeiY3TZiDGmit41kyVxqBGUIuRLn/KmN8jQnrGKUGtBYxRh4vWfkS079MnpvfYs8pU1ISVMFbazFRFYJn8gYKkrrklk2S3YbwYLsKdkgKojNxHXRujWyc6fZQ6vdzGIXjt+Vew1S7glBvRamZxJDxpDnm9oMW+hmMdZ3o79YAZMndZaStX502FfVdOPlQ67yl/JGYuq5r/mfN5XTmfR4zx2RZ+TdFynb44mw0LElXUTt88VSwAjlT2r5Y9neNh1wFG1jkK8oz+sT0t82rFiupPFmfGCr0n2RvR87eHlEQ7Ew7fgljBegtKEcuatpFxoibCPyt227jUEsEvVd9kQk3KDI/cGw9YD1Fkx4uaBFL7e8KZza+ollXP7jQWwtWhK1FvZKNfVpgYmhypEZNz7zwXWHJr5SbPF+R7uv4k8wSWOX/mL2pHZirL++hC4/nVjVK8pHui9Rle7yibYlfido2VdWn2FSxws4UlKUilt6ECvzTFheiF3E+7axDm/ki7KkoW9ESzuOPm+EmEdLvbj8YGbGZjLSa0RfPwW5JTxyWVLHm558v87p7ExlPjux4HLshhKZPwhHeWmV2z2JH6MoK4M/542ASFBNeef0UbiSpTPcX1qxnhGrP4ovO4PrifdjODhv1x7yB1WRB3uZ0eFSswuB+cgR/6ZiOqiq9dSY8StbQX2WUjrRm5V/M/XpzDLF62lRNUbXraatiu0HqUu9GapV25srW7GmEWVs/AYhje/iTqn0J3suK+JbteHCyLIuKHno66AH247evOZ7UU5wSW0j2d7V8tjoHTvk4EisqxgjUqqQb8W6NbontKQJN2hdgIgrqN1Qw9dFklXqcqoevaK0L5lFs8T0PMVKGJuJfBjr1sjOnV2seO2WIHbh+I+vBuJHjtRr9IWS0tQ2M2QMcb6pzbDFbhbzLSkLn2jWok9/iPAZyrhX2y8W4kfIzpp+MXpziZ47tMnhfazxix7NV/FEWOjYki6i9vlCezFC+UM+TSl/+LGltrdNB6wSj7Oj/Y8WCiuWLHEuEN7uD2p3NpadFHbs7VkQKfF7W3nFz6+x3gzl5W9wzfiPu28MA0h4YzQoPkTuV985MvZbMOA3jx7v0fqAnnVa6yeWccVdR9qX7o+UclSnVzky42rTBohiK8htvJkYHxbI8AlPZ008wOtX4yMKuiitfhFF+VgssRfuxXgYwO8Ew8GIK/hKVjyWtZdMGeU+57vQJ/UWJxsvqjTiSNSLyw9mZmw2eEX/yDzGgMfGMhMm5VWenmmZip9d/F2H4ZiJWBqKd9rGZ3K8o5G4LuJIgmsR0GpE+/tLu0wZ+WP30h2rmYn2UyrWP8+7QYZeGr3r0cLEOAdSeJuiC3GxTKkx41e2ZH2WlpEI8STF4jXR8sTraZ7xnPJpfzTJWioaqtWkm0uUY3K/mYu1KD5lizMzhcW0LqbgXHRqTXnuaygDl9M2GnfZkZmm1hStcPmwVRyAVkGIZmV0LzrxPF7Z0dRt0E/Ch7nWBYhYqiFW7un0itK+ZOZ/m/Z0LBlPZ15N8KRTyxZ+7rzdqV1Zs9iF4y3CfLn5Kfu9YsoYSecba4YteLOIWzIe8fLjiVfH1tWE+c/J8dBMs1divTT1x3bxRFjo2JIuovb50lMA5Y855SMs29umAw6IkR3xIQ8LhRXLlhib8df0Mpfw5GgMpnyhHtEK5FlBPZOk/MczsfxcPL8R4xBi/3iHXXm9Re6PZ9YMWzBQi9oou2Z0POP6X1uiuzxBxz42u5e2hSxPMVNspueqaG4T7WnRQz32j3fenVHh8VwoeyFH//G+6Vr6iPKRiLwF5vixmW7LWGonnh2p5OjyU+Nvg/5ZO5gXRMlL5iJPvxwq/6c3uXYH551GMDhVvbj8YKJnGs2rfOPmlIwVhQl5VSvCzMxnZ95mLA1nJKksyPjjOlG+aLenbCEFe89wf9lUOfb8fzuVrVJT6Qg3F3bWf/bVdcyS/tmub+ZPhmeib8bRefw5MydKD1NqiOtIfjV34S6ucmpGYmSneedRMzbse1W0TD45r/IXoATJSNXjTu/b2C61DdWq5c01R7GmssnMs74Tf6GtuPW8m5F72eu8CsblhyeobXOutlGspI2IPKNJLjFMezEQL+qDR7fiFVbYXrQvQJJK9TitosxQMi9aRkUSlnfpDB+E8XMXbwBmFcWK+M0y6bGBNwyp0Kv1972h7XNewyVLOt9o1bbozZJwS5ov6KxL4JNyeDy87HffBvOC6PlBPm8yPBcm4omw0LElXUTt86WlgLTod+5H+WPX3k7elOw8qWWkxcKKZUuOzfjTIH6ZeRjASjr+RIq1MPiZRF6VJOWbaKEgStVZZBIk5P4MWzCYkYfihaaRnnFJbgsnRJIK5eNe6sw8PMXmic3E12aZEZvx/c6ip4/co2lIa/KdEEtt09kp8y4GCgUWSil5ie/CUGrrl0POLaFyClva3cUPJnqmxrxqTsnoqSXkVctMZT478zZjaWhK0oB6SybdnloaZri/kreZGZ3OZKvaXUK3AYvjF2zWNwu3tv2oNYj2qYvgF9qUGuI6JmUkG/LuS8tIAX90zrqgU4WW5RLSczNlcsNtmN+uvHXDESZmhsLE8uaap1hT2GTmWd/R70RlVsmAs1VgJVH4NW2bsfuRMBWwsTTnP5pPUORhkf0SS4zkYjyGjy4TwZgYAaJ0gbMvQJJK9TieRMrtEz2jmGhS2FzWWaJb4z3A5SNpfu6yV9vMojgUu3CEOmGd5OxU2sb5eCMMlyzpfKNVm/jaLDNvloRb0nxBDYekTBcc2iqwJDDkB1mExudsZOKJsNCxJV1E7fNFU0Cz6HfuT/mT3t5O2pSYdyc6zxxnX2rdheTYTBQ67PkQC8fFlfvCTvnVQARv0Z6BSfkmWiiIZ/k2j5ATcn+GLRgk5yHxvC3lAugZV5r6k2u3pyx0a5xrWMVTLFLBWGZc2Vlcj5Ns8Bg7SzeP8MGVqXwUxxYdXsLEUls7OzEiM0cnQm2cdnqXg+EP+jZDy0t8F3qyxy+HnFuCPYA8bXc/Ddzrieeb8hI/mGhOiObVaJkSJXKLfFqckFdNNbGB+ezM24ylYWKGIcSdwp9w8/dm+upbWhpmuL9mVRX2pp77plx41HJTmyJW2PG/0rpuLoK9N+PznlXfJ8y/LTp1GDpF8NtN7yWfgbjKqRmJkTMiFB63Btk7Ws9jRiaf+uNv/e5p2A6LTLNuYKhWLW+u7MVahE1mnvUd/tw66PAm50Rlrw2b7bP+4GpESyLthtW2qVcxhjSJp3mspI3gz63l257EEsO0FyMxKyPrKMG7OEZaAvYFSFKpHseTyDI2i5XMi5ZRsYTlM1Vqj62pWUWxYsbNcjsefuo2w3Zn6hAXwyVLOt9o1bbozZJwS5ovaPyQgokf6HuPRvN9b3A5HP8klyshP4ghFUy+0ovnlngiLHRsSRdR+3yhvZgs+p37U/5ws9rb5k2Z5v8ILBZWLNuM2Ex0RyYXjL37lu/HeEhACiaWD2JdY5PyjblQiOdpg4Tcn2ELBjxnGMeb8SZUymb1jGvgXfKhKSn5jKfYPLGZHNFhrJxSidrLfCMZyA7freG3Fo184uUjP7awp0eAX8GwAoidnYgwDRM/8OEESl7iu9CTPXY5RLLok6eLjtrqxeUHMys2IxeInrd5VAMbnRg0xJPy6qyaOGQ+O/M2Y2koBnsYEl82ocTNG2uyhMSItXDv9veXTXWSgtTTzwrFl9GXzNPJ8NKde7VoOvmn6QZfUBD2Jwzp5qltuNY8lUR7bj7ioqdmJEI8RjE9GlwZq0xOrgs7iZRix1CtWt5cWYu1GN7Ly5DtSRNcTswgjkS/icje+Zw6sqUubiL9KogYPjzB5bSNRA4xdSzn4UR8vEd0a5RpLwn42dU/+7xTX2wSI+sChI+aNtRipPlBOxfJJUD0itK+ZF60jIo3OnkbjhaqvI0UTrqTmLBRNjfLdNxhwWfaYRsuWdL5xqq2BW+WhFvSXJHFDknsWm8iazURIwq04pshn1hS67kTT4RFji3xIvLIZ1l7MUH5Y9iLHa29bdiUqL5jqzop7Js9d2BWbCbazc/b7UM1kuGFaaV+TLNRWCoxloWC6BGhT0fD8gSdbkWO6EjI/Rm2YJIwT6OYjMW0u4hoxmUrJ2yr08RzdsU0T7G5YjNRAxlm9qRbKBT3a7HFLiLE3aKvoOK7J7ukUiy/UTrjyolA2Jw2vnuql4/82HLlWE0p5g5SurvEzo7f3vrJyjkzlbzEdxEv8uKXQ2xf+5qcxShycfmXZ8ZmabOBha2KxLxqUxMnnJ15m/EckjZPY3Dziosen+xOfE3du/X9ZVPlzMJGRhVPBrF+buO/K2TvKS+dZ2Czic5/VIn4wDzlSXmUmEzoj1jhL/4q0n6dji+OD0r7B/WPM+5ShbjoqRkp/GaG1ckWF8vkX9t0ZRh9ijD+tZXFZtmKNR1vfmnZXtwg/HTS5kmTuY6XS4ZMKGYtU05wOW2j1HnSgmSPFyAB016S8HQ47l3QwkebaNe6ABHtoXgt5vOJwoOZ3PSK0r5kXrSM0jItDy1237hsWIfSGE1M2KjohaMrbe4V4nPW2R624ZIl/WGsalvwZkm4Jc0VWeyQ+I/67WyoiciOxHNhNmWl7zb5LA6RlxvxRFjk2BLiQ8Ntu9BejFD+mD9X2La3tU0lrGMesVBYsWQzYzMx7JVR2iK8ZxQTD5GT8l+8UAie7D5qhguBs35N9FNlncGE3E/YbsFItlmV1RW8YScYj2vYnSqWcUWOjLQv5fokqWtc8hSLdDOzz7hyVejyqbIk/E+5wEvKrkWIlds76oZLTNAxKuzTyEK04qlVsIpx4uKPhLr4mFzfTG2Kxc5O/Lgb/hU5svGgyU6BUPIM34VWJMUuh3iJlKv8pXQ8+ylWqKDUiysPRu2KGc+rssizXd9MzzzxIszIfHbmbeo5xHZ9MxlXK70Hve8d2V1E3bvt/WVV5SQR62wWivulgxeNzjntzjr+1ms/p8uLRxYwyU6skLbkSW9FhZcYXYgVJqLNHX51ooWSeHJM2c3MKy56akailRDvWhl54rNqsUwupvJzKn+Pwvk/gkHYWp/PKH4vRPp/Wt9c9sWakWdY3+ZHj60YGUzOKcKG1PWF+Iud3JP2KKjpp56cUYYI71/rtlG0T6xWsMh6zXJ9IYsqZhZW8eULBXKhDS+ErSto0/pm4piVuMtQUVqXzAuVUQRPZ/WWF72Hdkk1GBm2kJiwUdELJ4JMUlhdh1uSSzal5lhDxkg633jVttjNknBLmiuy2CGJv92t94Njmfrjy6Zhpc3Ic2FKTJYb6bkTz7eLHBv5a17Ih2uKko8+1fXbdrG9GKH8MX6usmxvRzclJ2YM3sMnWCisWK7ZsZnMfNEsRS4A/1B/eGxdKATNMkLMNCg6WOcjq98k5H7GbgsJSKlE238EiYbF4t/5UvWQvgxMu3/iGdf/3pZlCm1lhkdivbg+/8Mq74aXJePSJSzEWbPF9YNV5B80TR1qo8j9LMNRlgjmRdxFD93omg9BcCvvVX5spcohu0PYRDcyEZTyl4ifnRiaSfC/EvPhbFVbJ/SLSm94vot4kadfDjmATc5Axfsik/LitE7LdPV1nwzk2K6bvI415FU6qzv9mri+CYmcmFe1IszEfHbmbZpyCJ1Ig34oz1qM7dEKo6CjP79reOJslUo0aaJ7t7u/DLc8P19DBo5h5SBpFnybTL51qtHxymq9OC+WtdQF3JdAVNuJsVlwS9Lzovv1vvG14OO9dkWDjJm16M0tn09yPPyb5V7iScv9MXOSSZH+a43NSEr9IzMkL5p4GUsy06PWMKVokolMc7KYGybDzWVXrCUKs716szvlN8Pw+slpMOWtIec72apGuiqIJ7UErxf415zSqya7luFQYYu2kSFNTAWLP+TNCLIbVpyaz32htlFIVl4JAwitK+iwFlPLLnLnfgu/JvelVJSEXcmc0CzhJ2txm/B0jtzyYko3sqvIImCJCRsVv3CTC/noUFSCYvxMNNeZGTJGhmbYAjdLwi1prsjihySHQsXyRuFZq0FPR66UI2ur6CKuMjgJe+vF8+1Cx0Z28LWpVqYsTci1aB3Rj5a2FzOUP2m3j117O7Ip+T5JfF//1w7myloorFimlNhMrlIXmYxRpqy2clxy/jMUCgSfmygoT3dK1ZNe+LSAScj9ksUWZlCmBywUn7ZIoMz7+6bdP3rGJWnidk+qskglxdxB7a3yLmsG2rVJDvzl/TqyZtyfdCqeoC2+/aDaOFfW2p+NPqxq1x4H93bx4EU7fGBAyBfB8f6f8fJRlkdjb3hW54P+nZ2yIRH0s4tMUcWO/8ylf8Xz3m7w8tpc5BkvhzrxI7sW/RHJFWLVgUiPPv9bW+5ajNdKyKuTwftghl9n+1GtqSVyYl41FGE689mZt5mUQ24GnWOZE/Lb5RfNXvA0VKUmOPnacXfojQ1ZmrC4vwy3PD9fQwaO8D4d0fdaQWE6GbQOyY5o2rYvZ9+A9vwRm8Cj8LjRvRxNUp9WpJNVVHJsRikXgiVa141nWmpy1W2fNmv7swocmrwiton+o5dPvxcYkf5rjs0I77rffnEwT9E0vqjL+5eXPNlurtRibbbpxD0LSqRC8XG9c6VdIHprNINdFPaq9femAl+dT4wdBlvSQLTsYx32lGxgqmK0NEkqWLzvvWawZMhWsXrciZ/7Ym2jUNApLunFr30FzSrQ4JgPjjvxW0avKDmLkjmhWcJPdr7YTD6hjg1qTUzYKP3CTb3RJ5Jjg4bgdulpw1x667SMkbEZNufNknBLmisywyGpUwiy8+2yu4y3wXj3b/GYVe9jJrutylHl8Xy76LGR6/uj3xIL+QRV0vL3YobyR/yYLL29HdkUP8EZIoWAfam1Smmx2T0j8uhmzNPyWzGXR3BP0bjaooS9G96o/zZY1CXGZg59lV1slgFdOV178LEYXmXG6hsAiKOD53GbAMCmuZ+xmdvcKZb2jy5izSvRfz36khCsIDYDiXX+dl6mjLRcA7a4eeyf7drTwrJjMzqwe9l3DWIzAAveZaOYP9q8cgoA7rv7GZuJdQziown5CLSHHbXLLthBbAbSdefgcXtJK5VtGlF0LCk2o/Ohidm3lgixGUCq6ajz+MBicWcAgLt2X/s0BqMko+PU44MpwRZiM7gXRM/1ZcRmbLmV1HnYskNsBgAA8Nu6x+PNvGHvNByFkmH2DjBAbAb3Al3Vmmf1RR/ijDoPC/oK6YuTy9fEV7EDAACAzYe5QAAArE1HHT5/8dZB69NostRZPBbkT0b9Uz6FcfHIcklrAAAA2CSIzQAAsqATXnfqT+VCTOqKeevytcU6ABSK+we1U/OU/QAAALD5EJsBAAAAAACsH2IzAAAAAACA9UNsBgAAAAAAsH6IzQAAAAAAANYPsRkAAAAAAMD6ITYDAAAAAABYP8RmAAAAAAAA64fYDAAAAAAAYP0QmwEAAAAAAKwfYjMAAAAAAID1Q2wGAAAAAACwfojNAAAAAAAA1g+xGQAAAAAAwPohNgMAAAAAAFi//0hs5p44uZcXnvhpQ4zaD3KzOTul0tN653w4mYq/AQAAAACA++m/EZuNOvu50ruR+GmjTP3BKyd33PfpD+POw1z5teuRSGzqT751j/Zyuf9bPXpcyOVLjc8T9gcAAAAAAHAf/Sdis0mvknMaV+KnTTM5q+SedFng5TZyuchxXnfKuXLnx6/Jp3oxV2xcsQgOAAAAAADunw2IzW66Fdq/r+GKn7P7QkKe2qb1aAzMis1+jbt/5Cof6C/Hf1dyu61hWudGurVcrnK2pJdsN4PWSU/dlntCL8bStj/DdNw/qRa36O5y+e3659Vcv6k3PDtqfxU//XYml63GefRaZDijSfcJvZjdG/HzEu41E+0gtf3eIe9rp/Zo26GnmSs86mzky3Tmvub/hUoY/XRWk6UTeaP++3r1gchg5MKVHteaZ67eKf3uClLNGne9HHd8TQEANsx/ITYbvSvl9lfcCJv63k8v9s+3GyQ2MzZj9egJO3XvokaCs+/s02TLjM3o+8acPDbhrup1f/CnaD8X90ul/XI77cTn457SvWzsO9XZJh8M1zrLGd1FbGY6yPXFZj86ZXqCbCQnyVfHG/vE5v7m/0VKGMPp3GE7fvK5UcrTnRlsVbs/xNc4xGbzQ2wGAPfbfyA28y6e5xwe3izd1BueN4PH8DGlv6ziQdvYzPTb1eIpv57YjDffd1vfxM8rwk9no9qm9oxx+EJntIrYbLkvchd0Re6hXO5Zb1NDsgDy/zwMp3Nn7Xja/5xwyqf90Y3sfD71J9f95iNWP+w2BrfiY+KuClKDNe56ORCbAcD99vvHZtMBaY7VPi6/Meb/2z164OS2yvX3g9Fk/pFgtrGZ369bvDdbpvXHZit/tWJozP0+EJtlxmOzFT2pWSbk/3kYTueu2vHDN7tkN7uvBoaaYDps7dGDUO+CuypIDda46+VAbAYA91tKbDa56jZfHIhBEblcYe+g9rY/isZBYX15M2i/KG+zXh+FvWrjfEgnJIzxhj05yoJ8p/VlsmhBfN0p5Uqda/HTsvhXzVI+V/yzv/js9jNjs0nvMHfw95j8n39Zd/J1U80fYWwKTy7btcfFAk1G2puretJ109p8/KopRPqH9Xrkah7Uz0xXk75XbMjRF872g4SLHsFbpVFqY5rlkNIO22R+u/S00ftuCrz1gR9PG90rJVlEvgqJREvKb9rnMmP7w7cVmg757fKL7ii4QPOcuzT1Rp869aclnrzizyOjVmhWiSBJNPuMnnTH44v6Q5oLyJ3VvCS/0gKA4Bynnvu+VmaJ7OyUa28HsXzOs5ke5EQ/Nx0klRB4TCfuWUqKZStMVDwqi1AOgCZ4eI+wcsx8ypWz8fhjvUwLqELxaXMQuc80N273tHawx7eay20VD160+9eznxOl5X964rLIZRscGO/lted/y/tUE5YwmaSeDr8f+bWgx9Myp5tl8sZNes/oXyQd9vjvA5ph3oaJmq0gTb2aYf6c/JoEG3S2H9Xa9E6PMKdwWnnlfazR30Qf1XF817uvh+LnGH4JjJXXtxaNaB92aA3HWZxpUlbUEz/pc7VCNN7sVCRB+NfibRsAgLWYEZv57kmRlVqk2GKDN4ImyF7D1TpvHJ3QYIbWT8o3C7E1x8bdCquiaIlMvkbrdady0iDVmqGtMJM/Zq2iSBFf73wa2TaOZ2PHWTxx0wIlK7RiS4rNfvaqfIbJH72jPYe0C8XnycIaWgguE6lu6WWSswuUZ8er7ttSiacevxb7bZ7+/GqWDqvpV/N22OKdecSuZXD4qDVUsodmcvE/epyibcGOuSTbNP63VlnNIWLXTvnNMHItYhlJbI1Q0nBycSRTg2fgo48s0bSKX0hqEBxWHH6cewXnuUyBOc+dmY67h+rf8huB/XzYHYsM7Lbl52LoFEmi2We0X6ns0eYmS40iewGbFJtVqs/o8bItiyOP3dQ8m6XGZoaDpEyx2fiCrhhBsUwl71znQXPOwiTma5seAP8yS4TS/tEFv0sSLlZuq9pTbjh+aqXDCrmdaPKSI9ybNTePf9UQ5aPYndxsyoSrs/L/+ONRZJsiYxSPPkZLhnXnf9v71ERsVmtPp0g5HTVLy9TIl2Kj+GyT14S/N3OO+5ZVTIaC1OZqyvxZOWlVaSKIK8K+Fq+qDClsU17RjhuE9khF3M4z+nR4LHB16pfxiz98TRMtPBK7M03MilqeMXw+HV+8FBeZ5xOxi72jC/Uih4UwuzTh1+r9n+IrAADrkhib0dc4pKjarV+oJfWPXo0WtmJqQY6Xj4T6lsn7whsuSoEuO36oXxufy8pSbyskuRm0HpOapVA+7gyuSUGcy5H6cjLqvz4gn8aaenPxLp47uYedkV0dnIrWqXpsduuNrzq0z2SuVHleLuQKB2/TmzWEqKGD2ohPfrDXGAS1/dQb8GgtddQNrwJNfRqJ4ste8IzccDV5KpEEP+wMg914wy6rF0kLJu1cTM33nxc1WkE6lXfhA13vO1sFjlT8n4NN0mXi6B//pTz3nXruazYeJN9UMxI/nUg8nLFtSs66cSnPUOxuoXMfv2fH+aQd/i35668tPpqlqcxBF7/WTPIZkW12RGgnjjMpNqPN1sYnuVlv2GHNlDDylLtOi80o00Fq+52O+CUrPFNTzOXtRecwnCnUtjBJYujT6PeP2V4eNPrh8Yx7vAG31wxateLUyHG/l424IHfp/EGd5tXd+j/KiZPNPmflo3JGCUz5/3uLHVOxHlwa8r3LJouC1Ect687/tvepGd+s3s62MSvz58utq+A4ZctbydLWyZtAxhWFh7X2+XDsWZ0mkVaQ2l7NIH/S+EFmG+97hx2Vo/bq11LYsrwS89PELw2vYtR3XxrvvEo39Wf0zRmp8endUO2JaMc63yZkRT3P6J8P3/D7OkyiX9PJ4LRMT0yp03nzRnkWFuaZxNeDAAB3JSk2891T+lixeh6W+BydFJFQWj+iEorP/06aRPTjIIoTwZ4W8/BHa4a2gsnkc50WvflK519WC0zdRj7cBZ2Gnha4qQ2jmWjFYHgEODdapyqxWcDZKdJndQ9rHVLTW+8t3hTmjdFXA/Ej5/fr9MFk2O4041WgMTZLu5qkoUMvW3T4O+W7DfoLumjbTIa2adKIDv+KbTJoHIx7tf1iQV9vwPTcl5/OQm3TaPpQC507ab6Xilv6JBAyhZV2hinsmXFG+hJ/ibFZvJVzSzIM+Tg8ctEQXFJsJh/0NOIZUuw3TA3b7JdEj83EzI3RKIiQ4WJQxIlTyzfcWL4yoX2eH2w7+uMP2sWaSC3N9PxP5zSiH7Eezip+YGHDd9353/Y+TcA3G8+BdpJPJ7yOAr8QYYvfOnmT+d/aB+zFnUC7RDY6565xNLJtTra+miJ/amGk/5ndXMpMxfEUti+vrhq8jlbTiD9LKgcPLIz40ca6NfKtBfeIfb5NyIp6nol/Tuc6ph90tYvMbrewWueJyUcThEie2SqWnqtv0wEA1iDzXCCihtBiM+c0Xtfz+Y6DcpP/GC8NCdvWTNCJqNLmgRkRG2wmSnnT8/Vbt0kn9mik1sCs23099b2PPZpiSmxGGhb02R6LUScfKk6+dpGlEwVP/3i9my83P2Wfr4RXgabYTL+aPCYP9st/3H1jeMQorntKM1pvm446+3STpncjbpO24CtpMTcPfZfcNk1KigXO3SzeztCvNZN8Rnr6JMVmhuw9eMU2IY9cv805/XPTQcb3yzdeemeY11Q09GViJqV5rDBJpMVmbCAQfbWu3xxigI18tSJObQlPdojU0ky7NKLsMq3TyNe6iL4QM7mb/L/ofarnc3sZMr9IT3k6S0heJj5SVCg8bvRNc+inFqTJ4ldT5E/1TSDHHlCSqjUISGIpnKG8Em+61KdL/GVXJFOZiHdu6ltT94R+YjFNl5ZvE7Kinmixz0mYSn/Wk4ikHlvqI7gc4t7fO+pcjS3XwgEAuDNWsZn/05tcu4PzTiMYRa3FZnq5GW200UkviEi1yrGJFtWC2Ex0pMmVlRYe3cVuS6lzeClvOJhfP7oH+VzhWXrDizYW/+gMtdXM9H/zr2/mu809/gSX9jax6AEYiqYqMemxgRaMs/2gWn/fG/6w2x6vAk2xWdrVFE9/xSij2D8+ikNr1kcltU3lCJzoP94SMmQen1yI8fCy330bjC9fcttUS4rFz11ii+aNvw36Z+2gtafuTrvWVIYzSorN/tAeK8t9BUce+zGgf246yNh++Y+my6cFSHbZL5kWmyVtkBLvE0QBknTK6W4972bkXvY6r4J5QdJKM/3SiEdUYvRL9B8fHRTJ2MLd5//57lPFrCuSJsPpiLpAfj5f8s7kk4t+TuI08zjDpNOclZNnXk3+h6YHHPH7K7rrbOUV78YSviXj6WaxKIV4Nx7UZaLTb8JTztn51jIrap/zKFSO/4z+4zdmUNn5bosOKOAKRbqA+EKzMQMALNGs2Mz73muEFQ/nFLbipbldJTSjfRatRBOIUTph53WCdVNRA5txlz0kX2hKfX46NhZZ38z/0tjNV3qkNqIx527ji22tYKja1QnKJGen0v6algi8CpwnNhNXc5aUNq7WNhX18Sxh5plOBm/FNIOhrYLexuKnY9WYs20QLH7ubBqx+KJ5hQJ76qHuznCtM51RUiJHrzjH9xUceezHgP656SBj+xUpZrr3ZTQlD8ku+yXLFJtF0y3plBMpU84GnK0Cu6wppZmWRPLIZ1G+vMb8L742i/lCS7OuSJoMpxOrVjIlb1Zy7FZOmTwm6TQNOdnuaibfAvH7K7pr8dtZ1DzPH1jIbo38tbZVfSreuYlgTAzoio9As8u3lllR+5z/OIta9JkOpvCw3pvVIx0A4C4kzwUiOhCyVzGn7e6ngXs98XxDC8auEpLvzb6wnyJsYjMxWiDS44j15VCrDT4iOdolIzP23szwYmFuNB202IwkcP/Y4bMv0J6N+mCABMk19K9ft+Php25Tztecng68CpwnNpODN+bqvMdobVM5VCD9zWYw0J+N92i+7w0uh+OfpA3AM9KK26YLn/v4rMKOnj6sbZx2epeD4Q/6DlbfnfFaZzgjPZH5N5PfmwV9fviPeqCif246yNh+421HlXhvJp+w2GW/ZHO8N5MDdZJO2ezWbbCZjZydUvW42T7rD65GtHxMvBYx2qURnZMtetatN//b36cJZl2RNBlOJ1at2CevCR1eSBrxM/q7iteJYeInnWY8J1tfTf6HhkEB2v0V3XXW8op3YuR1RyTcSsXfubFujbyLY3QErH2+tcyK2uc8ktT7kc7mT6LvPy1WsgEAWKmk2IwXyoZZ3cX4jcyxmSg3DV0yxMsuvXJVieon0nKi1a1SoMvB/bEugt7XdmWvWNwpbB+20+c3JyU1feAXad8siKaDITbjb8zYtGas0rKcsj9etRtNxx2WXClf41XgPLGZrAUtG7IGWttUZrlIdW4ihwo04hNyis6xkWvHT8eqMcdbbxYNgoXOXTRtDdOsixFfyu6M1zrDGemJLL85iHfHjU9RwHetByr83NXPTQcZ3y8feWIeb8bac7HxZnqaW2V7QovNxImYug2LRzmx8WZ2l1XkAXWeN86qNCO0SxNMY6DkXqN153/b+zRJ0iW2kSXzR2Mz6+Q1E10i1V4bMfEAwzIn21/NxJwsxpuF0XJs11nLK95Fhd6tLEvYzJIi8CxEjpB3aIxO+5Eh32rXNCExZdgZS8xojZaBN2CTo0QzGADAnUuIzUThqNVkMv5RWzCWlZBYhlKbpmn0jndW1CvXCNEoVGomGiUqg83E64ho0U/f/rH55UnERX5p9eyQzfW/u6TFzQiaDsbYjPwqeGNGJ2hOn36aiKUqXaZsr6BPp5l0USL4VZ4rNhNXM1/vxypa1ugs7JVq57NfPeqxmWimG0bf0eMsFPdrfP4sfoR6G1rMVxbdJv9ypK41NWEJPR8mpuEi5y76Vmm5XcxYGNldPM0ZwxklNk+1RBbf1HKaGMypfPMLO85YK8d0+5sOMr7ftHkaw4a+bfZLosVmqfM0Btvku7CLzfgJGo7HsjTTk4g0DPnqxup4Wo7Of5jfLj1q8dRbe/63vE+TJG3WhuF0EjN/NDazTt4EYv53dWkHFe2jTn6tTPKZdJqxnMy/ZnM1Rf7Uih3xTWVyxfius5ZXPEmfdPt0+FamIJynUr33Dz2k2GT09meqX1P+RDgeXuplJl0vlNBXRPDdk11np1R+wy8yW2Nwp6hNlivu6yynDACwfAmxmXgUl6v8FSzNQgo+2aueUEpJy0qIfNBjXRqKL3vBw+bJJzYnPpXWmrnpsYVcgulx6TOzoLAen1Vph4S9el89Chpl8UV4ReFuOQ6N9ecsNr5YfTkVTYeE2Iy+MXuSK57SCoPN2ahP/hsXS1XR6iV/eK20LH7wpXjEuSeSVaD6FiXr1XQeNQdBnTr13DdsJZn0ySf1tmlwiZ3y6SBsAP2Uq2DF3m/sKtd66o/FOkWEoW0a7QgkKmC1mWXMh0lJsdC5izTfVRdZ8seDplgZNrI7caavIgskGM4osXmqJbL4Js0wne8ye8t1xng+FMQ3i/XP8nimk/6fhtvfdJDafmUgZLm+mUX2S6DHZqzzMPnMdn2zWPsvAX8TmHvSHgXt3ak3PLNfrdGQ//2vTfbnxaOzcAEo/7rH1+wuyleL68//dvdpkuTbKl2WzB+LzWyTN4ns5E8yEp3cL1jezL8Z9d/W2ALTjvrszzIn219N8U2yG2WZMrm+2e7MaUiyllc8ji0WScpoz1JnY+/c+KD0+EyeGfKtfk35dPzB2jmEXJWRUM7Ud0/ZVdo76gbl29QfiWVUwwpRDF/fawyUcxerz2WcORkAYOkSx5vJUTG0d3g4zVG+1Dit04dw8zWn5CANOtiGbJMNw3UelFi5mdqaIUVnk1aBWwety7Hv06e/tfPx+KrbYEtRH7xWGgocnQePF+W8y1Y4y3AqdvrFo/PRohPsTv3BK0e+7qPTT1dj7+7GpB7iz/l896SY26p2Zw4S01J1ciEDZjETl5gUxCm/SVvMWkbg7A+bvOdKpqtJlyWgxKRtYpxbvtTUOuxpDG1Tgo7rEBvZpucipvCKLike5qLIfgvPWg26TcPyzTy/VWUHXdlKE3mbTedAkqt1RD+yaJsS8587u8qMuF58MPpWtXVCDzUyWIK3SPgu/p/oWWQ4o6yx2R+NBmvWFPbIAYhRFlr3PNnKUb+WL7des0RSAxjDQZou7viCN4L5kZuvbKbsZ2SIzcjFGvKwQRykPGWS5uobHpGwdrEZe9HNNsJPR2zTKb1qsvIxdTiWOf+PP7BnTIRa6pJ9PAufZ21C/re6TxPomxUHadEVLUvmj8dmhFXyJpt8boizNigcvI2Ut7Y52fpqylSqsIzHcp0s6ivvlEeoxl1nLK9E50ASSWVdiFlcDtMyd/b51nBNRXgp/pbnt72j1iv6yDVyptNxMHExK7h49qY/VT8oR+QP2/JxGP+aKIdJpf9R+VpSNwcAgFVKjM0IdTa5wt5B7W1/5JFCjQ96DnveZ2tOqZMjbRWrNKAyVKKJvFH/fb0atK5Iy4DPfjv7US0PQpQOkDYmX1oHW6S1UWufD8PHpBkMWzv8KA2c5xdBusjeRAGn9jGemAFDqtIld9q1x0F1u1162ugFTw1n8r+15QSPYpm4jFeTTREZtMx2StWTXvhiZBZz25T6Sae/kzUlqYmrjfPwObegTpHHzrd7RQ9MrOSjtiem44tjOTmK0gvL/9FviWnrne1HtfYl+fN4PkxKCmHuc4/Mq8lO8MyljxX4mJbIg2p/+FaeZrC2rH5GWWMz0ggmt+FrseXCnimFKX/8qSVOML9dftGmD91NL6a0g0y4uGSn5OYVKUaTvantN1v20xljM4KmebP2WJQb5JTr7+OPckTb1zI2I24G7WDeHTq9Qbt/zcpHNnJP72YclZj//THZrFyqhDTBH/PMGbUJ+d/mPjXRNytS3iI2y5L5zdWKVfLO4I/dM5KRZGHLa8bTrqtdxww52e5qhvnzZtASE1cUiqai3rzrTOWVqOWNq9jNJvuOGteqtsy3xms6nbjv62KNCtJyYAdvLhbo6zhSIQaPYOi9Gb4wDJANnjXCtoTxa4jNAGAdZsVmm4yW5kFrNVUwRln8bI0X37I+i7GcQx8AADhj5OB/rlvFZvdY5mcHi+Cxmf7uCwAAVu83jc3YYDPrqXLNT9cyYcsEx/4t2t0RAOCeMcRm/ohOVPsWj7pmucvYjE9hulCNCQAA8/o9YzP2VM9mVkOGz7Qr+uwBAMCaiD5v6kKX/ud6+X9WI77us7uIzfgluOnX93KmeR0BAOAu/J6xGe2jaBqqZMS7ZyizGwMAwN1yWw+COaWwvG9mdxCb8VeajGFpUwAAuBu/ZWxGJ8S3H2z2tUlHi80x2AwAAJZiclFjk0AUHta7wUzoYO0OYrPJOZvHcqtce582xy8AAKzMbxmbef8OBt9ndoWfjvtvm80zWsGwlVKdo39sZtADAAAAAABYj990LpAUkw/sEeNe22ULhlouXwMAAAAAALAu/83Y7NdNr7bjODvb2zsVy1V3AAAAAAAA1ug/GpsBAAAAAAD8Rn79+v+N9/NQsXCJmAAAAABJRU5ErkJggg==)\n",
    " \n",
    "For more information about the technique SHAP and its variants, we invite you to consult the reference [2].\n",
    "\n",
    "[1] Lundberg, Scott M., and Su-In Lee. “A unified approach to interpreting model predictions.” Advances in Neural Information Processing Systems. 2017.\n",
    "\n",
    "[2]  https://christophm.github.io/interpretable-ml-book/shap.html#fn69"
   ]
  },
  {
   "cell_type": "markdown",
   "metadata": {
    "id": "dYSW5VO83EKr"
   },
   "source": [
    "# The objective of this lab is to interpret the decisions taken by Machine Learning algorithms using the SHAP technique. We are studying the application of detecting whether the patient has alzhemer's disease or not.\n",
    "\n",
    "\n",
    "## We considered the following ML algorithms\n",
    "### 1. Decision Tree ([DT](https://scikit-learn.org/stable/modules/tree.html))\n",
    "### 1. Random Forest ([RF](https://scikit-learn.org/stable/modules/ensemble.html))\n",
    "### 3. XGBoost ([XGB](https://xgboost.readthedocs.io/en/latest/python/index.html))\n",
    "### 4. Deep Learning (DL)\n",
    " \n",
    "\n",
    "### **The first step before launching the notebook, it would be necessary manually upload the attached database file \"oasis_longitudinal.csv\" on colab.** \n",
    "\n",
    "##**TODO:**\n",
    "#### **shape_value is a matrix, the first matrix corresponding to the label to be explained and the second dimension corresponding to the input in the dataset.**\n",
    "##### **For each classifier**\n",
    "##### **1. Show and interpret the local explanation of some dataset inputs using shape_value[xxx][xxx]**\n",
    "#### **2. Interpret the global explanation (over the entire dataset) already computed in this lab.**"
   ]
  },
  {
   "cell_type": "markdown",
   "metadata": {
    "id": "sVNanhvB3EK0"
   },
   "source": [
    "## Import the needed packages"
   ]
  },
  {
   "cell_type": "code",
   "execution_count": 1,
   "metadata": {
    "colab": {
     "base_uri": "https://localhost:8080/"
    },
    "id": "-HwdBuj53EK1",
    "outputId": "9b34bb34-de37-4796-bcd8-68289903aa51"
   },
   "outputs": [
    {
     "name": "stdout",
     "output_type": "stream",
     "text": [
      "Collecting shap\n",
      "  Downloading shap-0.40.0-cp37-cp37m-manylinux2010_x86_64.whl (564 kB)\n",
      "\u001b[?25l\r",
      "\u001b[K     |▋                               | 10 kB 19.3 MB/s eta 0:00:01\r",
      "\u001b[K     |█▏                              | 20 kB 24.9 MB/s eta 0:00:01\r",
      "\u001b[K     |█▊                              | 30 kB 28.0 MB/s eta 0:00:01\r",
      "\u001b[K     |██▎                             | 40 kB 29.8 MB/s eta 0:00:01\r",
      "\u001b[K     |███                             | 51 kB 32.9 MB/s eta 0:00:01\r",
      "\u001b[K     |███▌                            | 61 kB 23.1 MB/s eta 0:00:01\r",
      "\u001b[K     |████                            | 71 kB 19.7 MB/s eta 0:00:01\r",
      "\u001b[K     |████▋                           | 81 kB 20.9 MB/s eta 0:00:01\r",
      "\u001b[K     |█████▏                          | 92 kB 22.7 MB/s eta 0:00:01\r",
      "\u001b[K     |█████▉                          | 102 kB 23.6 MB/s eta 0:00:01\r",
      "\u001b[K     |██████▍                         | 112 kB 23.6 MB/s eta 0:00:01\r",
      "\u001b[K     |███████                         | 122 kB 23.6 MB/s eta 0:00:01\r",
      "\u001b[K     |███████▌                        | 133 kB 23.6 MB/s eta 0:00:01\r",
      "\u001b[K     |████████▏                       | 143 kB 23.6 MB/s eta 0:00:01\r",
      "\u001b[K     |████████▊                       | 153 kB 23.6 MB/s eta 0:00:01\r",
      "\u001b[K     |█████████▎                      | 163 kB 23.6 MB/s eta 0:00:01\r",
      "\u001b[K     |█████████▉                      | 174 kB 23.6 MB/s eta 0:00:01\r",
      "\u001b[K     |██████████▍                     | 184 kB 23.6 MB/s eta 0:00:01\r",
      "\u001b[K     |███████████                     | 194 kB 23.6 MB/s eta 0:00:01\r",
      "\u001b[K     |███████████▋                    | 204 kB 23.6 MB/s eta 0:00:01\r",
      "\u001b[K     |████████████▏                   | 215 kB 23.6 MB/s eta 0:00:01\r",
      "\u001b[K     |████████████▊                   | 225 kB 23.6 MB/s eta 0:00:01\r",
      "\u001b[K     |█████████████▍                  | 235 kB 23.6 MB/s eta 0:00:01\r",
      "\u001b[K     |██████████████                  | 245 kB 23.6 MB/s eta 0:00:01\r",
      "\u001b[K     |██████████████▌                 | 256 kB 23.6 MB/s eta 0:00:01\r",
      "\u001b[K     |███████████████                 | 266 kB 23.6 MB/s eta 0:00:01\r",
      "\u001b[K     |███████████████▋                | 276 kB 23.6 MB/s eta 0:00:01\r",
      "\u001b[K     |████████████████▎               | 286 kB 23.6 MB/s eta 0:00:01\r",
      "\u001b[K     |████████████████▉               | 296 kB 23.6 MB/s eta 0:00:01\r",
      "\u001b[K     |█████████████████▍              | 307 kB 23.6 MB/s eta 0:00:01\r",
      "\u001b[K     |██████████████████              | 317 kB 23.6 MB/s eta 0:00:01\r",
      "\u001b[K     |██████████████████▋             | 327 kB 23.6 MB/s eta 0:00:01\r",
      "\u001b[K     |███████████████████▏            | 337 kB 23.6 MB/s eta 0:00:01\r",
      "\u001b[K     |███████████████████▊            | 348 kB 23.6 MB/s eta 0:00:01\r",
      "\u001b[K     |████████████████████▎           | 358 kB 23.6 MB/s eta 0:00:01\r",
      "\u001b[K     |████████████████████▉           | 368 kB 23.6 MB/s eta 0:00:01\r",
      "\u001b[K     |█████████████████████▌          | 378 kB 23.6 MB/s eta 0:00:01\r",
      "\u001b[K     |██████████████████████          | 389 kB 23.6 MB/s eta 0:00:01\r",
      "\u001b[K     |██████████████████████▋         | 399 kB 23.6 MB/s eta 0:00:01\r",
      "\u001b[K     |███████████████████████▏        | 409 kB 23.6 MB/s eta 0:00:01\r",
      "\u001b[K     |███████████████████████▉        | 419 kB 23.6 MB/s eta 0:00:01\r",
      "\u001b[K     |████████████████████████▍       | 430 kB 23.6 MB/s eta 0:00:01\r",
      "\u001b[K     |█████████████████████████       | 440 kB 23.6 MB/s eta 0:00:01\r",
      "\u001b[K     |█████████████████████████▌      | 450 kB 23.6 MB/s eta 0:00:01\r",
      "\u001b[K     |██████████████████████████      | 460 kB 23.6 MB/s eta 0:00:01\r",
      "\u001b[K     |██████████████████████████▊     | 471 kB 23.6 MB/s eta 0:00:01\r",
      "\u001b[K     |███████████████████████████▎    | 481 kB 23.6 MB/s eta 0:00:01\r",
      "\u001b[K     |███████████████████████████▉    | 491 kB 23.6 MB/s eta 0:00:01\r",
      "\u001b[K     |████████████████████████████▍   | 501 kB 23.6 MB/s eta 0:00:01\r",
      "\u001b[K     |█████████████████████████████   | 512 kB 23.6 MB/s eta 0:00:01\r",
      "\u001b[K     |█████████████████████████████▋  | 522 kB 23.6 MB/s eta 0:00:01\r",
      "\u001b[K     |██████████████████████████████▏ | 532 kB 23.6 MB/s eta 0:00:01\r",
      "\u001b[K     |██████████████████████████████▊ | 542 kB 23.6 MB/s eta 0:00:01\r",
      "\u001b[K     |███████████████████████████████▎| 552 kB 23.6 MB/s eta 0:00:01\r",
      "\u001b[K     |████████████████████████████████| 563 kB 23.6 MB/s eta 0:00:01\r",
      "\u001b[K     |████████████████████████████████| 564 kB 23.6 MB/s \n",
      "\u001b[?25hRequirement already satisfied: numba in /usr/local/lib/python3.7/dist-packages (from shap) (0.51.2)\n",
      "Requirement already satisfied: cloudpickle in /usr/local/lib/python3.7/dist-packages (from shap) (1.3.0)\n",
      "Requirement already satisfied: tqdm>4.25.0 in /usr/local/lib/python3.7/dist-packages (from shap) (4.62.3)\n",
      "Requirement already satisfied: pandas in /usr/local/lib/python3.7/dist-packages (from shap) (1.1.5)\n",
      "Requirement already satisfied: scipy in /usr/local/lib/python3.7/dist-packages (from shap) (1.4.1)\n",
      "Collecting slicer==0.0.7\n",
      "  Downloading slicer-0.0.7-py3-none-any.whl (14 kB)\n",
      "Requirement already satisfied: scikit-learn in /usr/local/lib/python3.7/dist-packages (from shap) (1.0.2)\n",
      "Requirement already satisfied: packaging>20.9 in /usr/local/lib/python3.7/dist-packages (from shap) (21.3)\n",
      "Requirement already satisfied: numpy in /usr/local/lib/python3.7/dist-packages (from shap) (1.19.5)\n",
      "Requirement already satisfied: pyparsing!=3.0.5,>=2.0.2 in /usr/local/lib/python3.7/dist-packages (from packaging>20.9->shap) (3.0.6)\n",
      "Requirement already satisfied: setuptools in /usr/local/lib/python3.7/dist-packages (from numba->shap) (57.4.0)\n",
      "Requirement already satisfied: llvmlite<0.35,>=0.34.0.dev0 in /usr/local/lib/python3.7/dist-packages (from numba->shap) (0.34.0)\n",
      "Requirement already satisfied: pytz>=2017.2 in /usr/local/lib/python3.7/dist-packages (from pandas->shap) (2018.9)\n",
      "Requirement already satisfied: python-dateutil>=2.7.3 in /usr/local/lib/python3.7/dist-packages (from pandas->shap) (2.8.2)\n",
      "Requirement already satisfied: six>=1.5 in /usr/local/lib/python3.7/dist-packages (from python-dateutil>=2.7.3->pandas->shap) (1.15.0)\n",
      "Requirement already satisfied: threadpoolctl>=2.0.0 in /usr/local/lib/python3.7/dist-packages (from scikit-learn->shap) (3.0.0)\n",
      "Requirement already satisfied: joblib>=0.11 in /usr/local/lib/python3.7/dist-packages (from scikit-learn->shap) (1.1.0)\n",
      "Installing collected packages: slicer, shap\n",
      "Successfully installed shap-0.40.0 slicer-0.0.7\n"
     ]
    }
   ],
   "source": [
    "%matplotlib inline\n",
    "\n",
    "import glob\n",
    "import seaborn as sns\n",
    "import pandas as pd\n",
    "import numpy as np\n",
    "import sklearn\n",
    "import matplotlib.pyplot as plt\n",
    "from sklearn.preprocessing import LabelEncoder\n",
    "!pip install shap\n",
    "import sklearn.tree \n",
    "import shap\n",
    "from collections import Counter\n",
    "from sklearn.preprocessing import StandardScaler\n",
    "from sklearn.model_selection import train_test_split\n",
    "import xgboost\n",
    "import tensorflow as tf\n",
    "from tensorflow.keras.models import Sequential\n",
    "from tensorflow.keras.layers import Dense,Dropout\n",
    "from tensorflow.keras.models import load_model\n",
    "from tensorflow.keras.utils import to_categorical"
   ]
  },
  {
   "cell_type": "markdown",
   "metadata": {
    "id": "lIAR7vC6kuZV"
   },
   "source": [
    " # I) Read all the available dataset"
   ]
  },
  {
   "cell_type": "markdown",
   "metadata": {
    "id": "RHLB4qzjk_YS"
   },
   "source": [
    "This part consists of reading the OASIS dataset, splitting it into train and test sets and displaying a number of images per set.\n",
    "\n"
   ]
  },
  {
   "cell_type": "code",
   "execution_count": 2,
   "metadata": {
    "colab": {
     "base_uri": "https://localhost:8080/",
     "height": 206
    },
    "id": "LV4spU5_3EK3",
    "outputId": "ea217861-c14d-4e5d-e474-173b8b5aa35e"
   },
   "outputs": [
    {
     "data": {
      "text/html": [
       "\n",
       "  <div id=\"df-08a83a24-05a1-4246-93a5-05610250089a\">\n",
       "    <div class=\"colab-df-container\">\n",
       "      <div>\n",
       "<style scoped>\n",
       "    .dataframe tbody tr th:only-of-type {\n",
       "        vertical-align: middle;\n",
       "    }\n",
       "\n",
       "    .dataframe tbody tr th {\n",
       "        vertical-align: top;\n",
       "    }\n",
       "\n",
       "    .dataframe thead th {\n",
       "        text-align: right;\n",
       "    }\n",
       "</style>\n",
       "<table border=\"1\" class=\"dataframe\">\n",
       "  <thead>\n",
       "    <tr style=\"text-align: right;\">\n",
       "      <th></th>\n",
       "      <th>Subject ID</th>\n",
       "      <th>MRI ID</th>\n",
       "      <th>Group</th>\n",
       "      <th>Visit</th>\n",
       "      <th>MR Delay</th>\n",
       "      <th>M/F</th>\n",
       "      <th>Hand</th>\n",
       "      <th>Age</th>\n",
       "      <th>EDUC</th>\n",
       "      <th>SES</th>\n",
       "      <th>MMSE</th>\n",
       "      <th>CDR</th>\n",
       "      <th>eTIV</th>\n",
       "      <th>nWBV</th>\n",
       "      <th>ASF</th>\n",
       "    </tr>\n",
       "  </thead>\n",
       "  <tbody>\n",
       "    <tr>\n",
       "      <th>0</th>\n",
       "      <td>OAS2_0001</td>\n",
       "      <td>OAS2_0001_MR1</td>\n",
       "      <td>Nondemented</td>\n",
       "      <td>1</td>\n",
       "      <td>0</td>\n",
       "      <td>M</td>\n",
       "      <td>R</td>\n",
       "      <td>87</td>\n",
       "      <td>14</td>\n",
       "      <td>2.0</td>\n",
       "      <td>27.0</td>\n",
       "      <td>0.0</td>\n",
       "      <td>1987</td>\n",
       "      <td>0.696</td>\n",
       "      <td>0.883</td>\n",
       "    </tr>\n",
       "    <tr>\n",
       "      <th>1</th>\n",
       "      <td>OAS2_0001</td>\n",
       "      <td>OAS2_0001_MR2</td>\n",
       "      <td>Nondemented</td>\n",
       "      <td>2</td>\n",
       "      <td>457</td>\n",
       "      <td>M</td>\n",
       "      <td>R</td>\n",
       "      <td>88</td>\n",
       "      <td>14</td>\n",
       "      <td>2.0</td>\n",
       "      <td>30.0</td>\n",
       "      <td>0.0</td>\n",
       "      <td>2004</td>\n",
       "      <td>0.681</td>\n",
       "      <td>0.876</td>\n",
       "    </tr>\n",
       "    <tr>\n",
       "      <th>2</th>\n",
       "      <td>OAS2_0002</td>\n",
       "      <td>OAS2_0002_MR1</td>\n",
       "      <td>Demented</td>\n",
       "      <td>1</td>\n",
       "      <td>0</td>\n",
       "      <td>M</td>\n",
       "      <td>R</td>\n",
       "      <td>75</td>\n",
       "      <td>12</td>\n",
       "      <td>2.0</td>\n",
       "      <td>23.0</td>\n",
       "      <td>0.5</td>\n",
       "      <td>1678</td>\n",
       "      <td>0.736</td>\n",
       "      <td>1.046</td>\n",
       "    </tr>\n",
       "    <tr>\n",
       "      <th>3</th>\n",
       "      <td>OAS2_0002</td>\n",
       "      <td>OAS2_0002_MR2</td>\n",
       "      <td>Demented</td>\n",
       "      <td>2</td>\n",
       "      <td>560</td>\n",
       "      <td>M</td>\n",
       "      <td>R</td>\n",
       "      <td>76</td>\n",
       "      <td>12</td>\n",
       "      <td>2.0</td>\n",
       "      <td>28.0</td>\n",
       "      <td>0.5</td>\n",
       "      <td>1738</td>\n",
       "      <td>0.713</td>\n",
       "      <td>1.010</td>\n",
       "    </tr>\n",
       "    <tr>\n",
       "      <th>4</th>\n",
       "      <td>OAS2_0002</td>\n",
       "      <td>OAS2_0002_MR3</td>\n",
       "      <td>Demented</td>\n",
       "      <td>3</td>\n",
       "      <td>1895</td>\n",
       "      <td>M</td>\n",
       "      <td>R</td>\n",
       "      <td>80</td>\n",
       "      <td>12</td>\n",
       "      <td>2.0</td>\n",
       "      <td>22.0</td>\n",
       "      <td>0.5</td>\n",
       "      <td>1698</td>\n",
       "      <td>0.701</td>\n",
       "      <td>1.034</td>\n",
       "    </tr>\n",
       "  </tbody>\n",
       "</table>\n",
       "</div>\n",
       "      <button class=\"colab-df-convert\" onclick=\"convertToInteractive('df-08a83a24-05a1-4246-93a5-05610250089a')\"\n",
       "              title=\"Convert this dataframe to an interactive table.\"\n",
       "              style=\"display:none;\">\n",
       "        \n",
       "  <svg xmlns=\"http://www.w3.org/2000/svg\" height=\"24px\"viewBox=\"0 0 24 24\"\n",
       "       width=\"24px\">\n",
       "    <path d=\"M0 0h24v24H0V0z\" fill=\"none\"/>\n",
       "    <path d=\"M18.56 5.44l.94 2.06.94-2.06 2.06-.94-2.06-.94-.94-2.06-.94 2.06-2.06.94zm-11 1L8.5 8.5l.94-2.06 2.06-.94-2.06-.94L8.5 2.5l-.94 2.06-2.06.94zm10 10l.94 2.06.94-2.06 2.06-.94-2.06-.94-.94-2.06-.94 2.06-2.06.94z\"/><path d=\"M17.41 7.96l-1.37-1.37c-.4-.4-.92-.59-1.43-.59-.52 0-1.04.2-1.43.59L10.3 9.45l-7.72 7.72c-.78.78-.78 2.05 0 2.83L4 21.41c.39.39.9.59 1.41.59.51 0 1.02-.2 1.41-.59l7.78-7.78 2.81-2.81c.8-.78.8-2.07 0-2.86zM5.41 20L4 18.59l7.72-7.72 1.47 1.35L5.41 20z\"/>\n",
       "  </svg>\n",
       "      </button>\n",
       "      \n",
       "  <style>\n",
       "    .colab-df-container {\n",
       "      display:flex;\n",
       "      flex-wrap:wrap;\n",
       "      gap: 12px;\n",
       "    }\n",
       "\n",
       "    .colab-df-convert {\n",
       "      background-color: #E8F0FE;\n",
       "      border: none;\n",
       "      border-radius: 50%;\n",
       "      cursor: pointer;\n",
       "      display: none;\n",
       "      fill: #1967D2;\n",
       "      height: 32px;\n",
       "      padding: 0 0 0 0;\n",
       "      width: 32px;\n",
       "    }\n",
       "\n",
       "    .colab-df-convert:hover {\n",
       "      background-color: #E2EBFA;\n",
       "      box-shadow: 0px 1px 2px rgba(60, 64, 67, 0.3), 0px 1px 3px 1px rgba(60, 64, 67, 0.15);\n",
       "      fill: #174EA6;\n",
       "    }\n",
       "\n",
       "    [theme=dark] .colab-df-convert {\n",
       "      background-color: #3B4455;\n",
       "      fill: #D2E3FC;\n",
       "    }\n",
       "\n",
       "    [theme=dark] .colab-df-convert:hover {\n",
       "      background-color: #434B5C;\n",
       "      box-shadow: 0px 1px 3px 1px rgba(0, 0, 0, 0.15);\n",
       "      filter: drop-shadow(0px 1px 2px rgba(0, 0, 0, 0.3));\n",
       "      fill: #FFFFFF;\n",
       "    }\n",
       "  </style>\n",
       "\n",
       "      <script>\n",
       "        const buttonEl =\n",
       "          document.querySelector('#df-08a83a24-05a1-4246-93a5-05610250089a button.colab-df-convert');\n",
       "        buttonEl.style.display =\n",
       "          google.colab.kernel.accessAllowed ? 'block' : 'none';\n",
       "\n",
       "        async function convertToInteractive(key) {\n",
       "          const element = document.querySelector('#df-08a83a24-05a1-4246-93a5-05610250089a');\n",
       "          const dataTable =\n",
       "            await google.colab.kernel.invokeFunction('convertToInteractive',\n",
       "                                                     [key], {});\n",
       "          if (!dataTable) return;\n",
       "\n",
       "          const docLinkHtml = 'Like what you see? Visit the ' +\n",
       "            '<a target=\"_blank\" href=https://colab.research.google.com/notebooks/data_table.ipynb>data table notebook</a>'\n",
       "            + ' to learn more about interactive tables.';\n",
       "          element.innerHTML = '';\n",
       "          dataTable['output_type'] = 'display_data';\n",
       "          await google.colab.output.renderOutput(dataTable, element);\n",
       "          const docLink = document.createElement('div');\n",
       "          docLink.innerHTML = docLinkHtml;\n",
       "          element.appendChild(docLink);\n",
       "        }\n",
       "      </script>\n",
       "    </div>\n",
       "  </div>\n",
       "  "
      ],
      "text/plain": [
       "  Subject ID         MRI ID        Group  Visit  ...  CDR  eTIV   nWBV    ASF\n",
       "0  OAS2_0001  OAS2_0001_MR1  Nondemented      1  ...  0.0  1987  0.696  0.883\n",
       "1  OAS2_0001  OAS2_0001_MR2  Nondemented      2  ...  0.0  2004  0.681  0.876\n",
       "2  OAS2_0002  OAS2_0002_MR1     Demented      1  ...  0.5  1678  0.736  1.046\n",
       "3  OAS2_0002  OAS2_0002_MR2     Demented      2  ...  0.5  1738  0.713  1.010\n",
       "4  OAS2_0002  OAS2_0002_MR3     Demented      3  ...  0.5  1698  0.701  1.034\n",
       "\n",
       "[5 rows x 15 columns]"
      ]
     },
     "execution_count": 2,
     "metadata": {},
     "output_type": "execute_result"
    }
   ],
   "source": [
    "df = pd.read_csv('oasis_longitudinal.csv') \n",
    "#fillna will fill the missing data.\n",
    "# https://pandas.pydata.org/pandas-docs/stable/generated/pandas.DataFrame.fillna.html\n",
    "\n",
    "df = df.fillna(method = 'ffill')\n",
    "\n",
    "#Calculate the number of samples per class\n",
    "Counter(df[\"Group\"])\n",
    "\n",
    "# Display the last 5 lines..\n",
    "df.tail()\n",
    "\n",
    "# Display the first 5 lines.\n",
    "df.head()"
   ]
  },
  {
   "cell_type": "markdown",
   "metadata": {
    "id": "8EgKul_yv59q"
   },
   "source": [
    "# II) Extract the important feature and split data "
   ]
  },
  {
   "cell_type": "code",
   "execution_count": 3,
   "metadata": {
    "id": "DwbaUxb4v6da"
   },
   "outputs": [],
   "source": [
    "df=df[['Group','M/F', 'Age', 'EDUC', 'SES',  'eTIV', 'ASF']]\n",
    "#Encoding the Group variable\n",
    "   # 'Not Demented' has become 2.\n",
    "   # 'Demented' has become 1.\n",
    "\n",
    "# Enconde the categorical features\n",
    "for x in ['M/F', 'Age','Group']:\n",
    "    f = LabelEncoder()\n",
    "    df[x] = f.fit_transform(df[x])\n",
    "\n",
    "df['Group'].replace(to_replace = 2, value = 0, inplace = True)\n",
    "df['Group'].replace(to_replace = 1, value = 1, inplace = True)\n",
    "\n",
    "# The dataset is splited as:\n",
    "# 70% for training\n",
    "# 30% for test\n",
    "\n",
    "train, test = train_test_split(df, test_size = 0.3)"
   ]
  },
  {
   "cell_type": "markdown",
   "metadata": {
    "id": "sJICZksru24L"
   },
   "source": [
    "# II) Problem definition Y= f(X)\n",
    "### We will predict the Group the M/F, Age, EDUC, SES, eTIV and ASF features."
   ]
  },
  {
   "cell_type": "code",
   "execution_count": 4,
   "metadata": {
    "id": "YFJMnyyMu-4I"
   },
   "outputs": [],
   "source": [
    "X_train = train[['M/F', 'Age', 'EDUC', 'SES',  'eTIV', 'ASF']]\n",
    "y_train = train.Group\n",
    "\n",
    "X_test = test[['M/F', 'Age', 'EDUC', 'SES',  'eTIV',  'ASF']]\n",
    "y_test = test.Group"
   ]
  },
  {
   "cell_type": "markdown",
   "metadata": {
    "id": "mA8SMjZMpOoY"
   },
   "source": [
    "# III) Data normalization"
   ]
  },
  {
   "cell_type": "code",
   "execution_count": 5,
   "metadata": {
    "id": "kXUGC3Ho3ELL"
   },
   "outputs": [],
   "source": [
    "# Define the scaler\n",
    "scaler = StandardScaler().fit(X_train)\n",
    "\n",
    "# Scale the training dataset\n",
    "X_train = scaler.transform(X_train)\n",
    "\n",
    "# Scale the test dataset\n",
    "X_test = scaler.transform(X_test)\n",
    "\n",
    "#Transfor data to array\n",
    "y_train = np.ravel(y_train)\n",
    "X_train = np.asarray(X_train)\n",
    "\n",
    "y_test = np.ravel(y_test)\n",
    "X_test = np.asarray(X_test)\n",
    "\n",
    "X_train_DF= pd.DataFrame(X_train,columns=[\"M/F\", \"Age\",\"EDUC\",\"SES\",\"eTIV\",\"ASF\"])\n",
    "X_test_DF= pd.DataFrame(X_test,columns=[\"M/F\", \"Age\",\"EDUC\",\"SES\",\"eTIV\",\"ASF\"])"
   ]
  },
  {
   "cell_type": "markdown",
   "metadata": {
    "id": "-e9x0DXC3ELM"
   },
   "source": [
    "#IV) Decision Tree classifier."
   ]
  },
  {
   "cell_type": "markdown",
   "metadata": {
    "id": "EHvTrguf1aaj"
   },
   "source": [
    "### 1)  Train and evaluate a DT Classifier"
   ]
  },
  {
   "cell_type": "code",
   "execution_count": 6,
   "metadata": {
    "colab": {
     "base_uri": "https://localhost:8080/"
    },
    "id": "6672cqljmDUI",
    "outputId": "531d345d-fa11-45bd-d079-8b8f0bcfb809"
   },
   "outputs": [
    {
     "name": "stdout",
     "output_type": "stream",
     "text": [
      "1.0\n",
      "0.8125\n"
     ]
    }
   ],
   "source": [
    "dtree = sklearn.tree.DecisionTreeClassifier(min_samples_split=2)\n",
    "dtree.fit(X_train, y_train)\n",
    "\n",
    "print(dtree.score(X_train, y_train))\n",
    "print(dtree.score(X_test, y_test))"
   ]
  },
  {
   "cell_type": "markdown",
   "metadata": {
    "id": "SPjWpYfU1r2M"
   },
   "source": [
    "### 2)  Global interpreation of the DT classifier\n",
    "**TODO: interpretate the obtained results**"
   ]
  },
  {
   "cell_type": "code",
   "execution_count": 7,
   "metadata": {
    "colab": {
     "base_uri": "https://localhost:8080/",
     "height": 347,
     "referenced_widgets": [
      "df273d0d969d47d59a8c200e853d8e2f",
      "6c46606786a74d61998352c2a8ee7a5d",
      "81179500be004d33886aec07bd397610",
      "9323058cd2384030a74f1e8d678837e9",
      "6a631f56449a43e780e41ff5ae10eb35",
      "a7736b81fc5a40018ae64a731b83b2f1",
      "d2ea2955db8b451d9db6c80bb0e4ea04",
      "3359ff1b6e6b43b0a4b679a5fbd2ba3e",
      "3fcea00442a24d399a2439452265c6e4",
      "b4e8ce0b3f134dbea6a522099f53e94e",
      "14b6f03f490d40ef85a6e7ce24fdafb8"
     ]
    },
    "id": "L90LqvzBugl9",
    "outputId": "cfc50c80-ecc6-4965-c1c1-2fc4955ca561"
   },
   "outputs": [
    {
     "name": "stderr",
     "output_type": "stream",
     "text": [
      "Using 261 background data samples could cause slower run times. Consider using shap.sample(data, K) or shap.kmeans(data, K) to summarize the background as K samples.\n"
     ]
    },
    {
     "data": {
      "application/vnd.jupyter.widget-view+json": {
       "model_id": "df273d0d969d47d59a8c200e853d8e2f",
       "version_major": 2,
       "version_minor": 0
      },
      "text/plain": [
       "  0%|          | 0/112 [00:00<?, ?it/s]"
      ]
     },
     "metadata": {},
     "output_type": "display_data"
    },
    {
     "data": {
      "image/png": "[encoded data removed]",
      "text/plain": [
       "<Figure size 576x280.8 with 1 Axes>"
      ]
     },
     "metadata": {
      "needs_background": "light"
     },
     "output_type": "display_data"
    }
   ],
   "source": [
    "explainer = shap.KernelExplainer(dtree.predict_proba,X_train_DF)\n",
    "\n",
    "#compute shap_values\n",
    "shap_values = explainer.shap_values(X_test_DF, approximate=True)\n",
    "\n",
    "# visualize the prediction's explanation\n",
    "shap.summary_plot(shap_values, X_test_DF)"
   ]
  },
  {
   "cell_type": "code",
   "execution_count": 8,
   "metadata": {
    "colab": {
     "base_uri": "https://localhost:8080/",
     "height": 281
    },
    "id": "-upHXe03e2TV",
    "outputId": "3c66b796-4990-4fe6-e518-df0897fc15db"
   },
   "outputs": [
    {
     "data": {
      "image/png": "[encoded data removed]",
      "text/plain": [
       "<Figure size 576x280.8 with 2 Axes>"
      ]
     },
     "metadata": {
      "needs_background": "light"
     },
     "output_type": "display_data"
    }
   ],
   "source": [
    "#Explanation according to one class (0 or 1)\n",
    "shap.summary_plot(shap_values[1], X_test_DF)"
   ]
  },
  {
   "cell_type": "markdown",
   "metadata": {
    "id": "feECWjNqmBpW"
   },
   "source": [
    "#V) Random Forest classifier."
   ]
  },
  {
   "cell_type": "markdown",
   "metadata": {
    "id": "wO_yhL8Odex6"
   },
   "source": [
    "### 1)  Train and evaluate a RF Classifier"
   ]
  },
  {
   "cell_type": "code",
   "execution_count": 9,
   "metadata": {
    "colab": {
     "base_uri": "https://localhost:8080/"
    },
    "id": "__zAeV2TmOci",
    "outputId": "a6f5d888-b147-4f5e-88dd-e8ed0c6b45c9"
   },
   "outputs": [
    {
     "name": "stdout",
     "output_type": "stream",
     "text": [
      "1.0\n",
      "0.875\n"
     ]
    }
   ],
   "source": [
    "rf = sklearn.ensemble.RandomForestClassifier(max_depth=50, random_state=0)\n",
    "rf.fit(X_train, y_train)\n",
    "\n",
    "print(rf.score(X_train, y_train))\n",
    "print(rf.score(X_test, y_test))"
   ]
  },
  {
   "cell_type": "markdown",
   "metadata": {
    "id": "67xVdF9XqT6g"
   },
   "source": [
    "### 2)  Global interpreation of the RF classifier\n",
    "**TODO: interpretate the obtained results**"
   ]
  },
  {
   "cell_type": "code",
   "execution_count": 10,
   "metadata": {
    "colab": {
     "base_uri": "https://localhost:8080/",
     "height": 347,
     "referenced_widgets": [
      "5ae67e48c61d4c2095e119713656f5d1",
      "8aef7d4989a04453acf82c67e4023bb4",
      "5bd037c07f5e46bca40530be415a93c6",
      "d60e18bdebde458f8608c818f5c6ee86",
      "efa92af6b52643a59443bedfc4937e19",
      "4f5af2394218415abf9d72f86bcc76fa",
      "78cd2979bb06465c94789710843a50db",
      "4f026354b5b145feb707d1af0e2e5f7b",
      "deea0ff0d4d545ada427d657a3ce7820",
      "7d2954e39f33470eb42f3375e765c756",
      "3577289127a940cc8747d585bbd58d30"
     ]
    },
    "id": "nGrLAl_sh1gg",
    "outputId": "dca7a83f-37fe-4772-f937-9648772e4f38"
   },
   "outputs": [
    {
     "name": "stderr",
     "output_type": "stream",
     "text": [
      "Using 261 background data samples could cause slower run times. Consider using shap.sample(data, K) or shap.kmeans(data, K) to summarize the background as K samples.\n"
     ]
    },
    {
     "data": {
      "application/vnd.jupyter.widget-view+json": {
       "model_id": "5ae67e48c61d4c2095e119713656f5d1",
       "version_major": 2,
       "version_minor": 0
      },
      "text/plain": [
       "  0%|          | 0/112 [00:00<?, ?it/s]"
      ]
     },
     "metadata": {},
     "output_type": "display_data"
    },
    {
     "data": {
      "image/png": "[encoded data removed]",
      "text/plain": [
       "<Figure size 576x280.8 with 1 Axes>"
      ]
     },
     "metadata": {
      "needs_background": "light"
     },
     "output_type": "display_data"
    }
   ],
   "source": [
    "explainer = shap.KernelExplainer(rf.predict_proba,X_train_DF)\n",
    "\n",
    "#Compute shap_values \n",
    "shap_values = explainer.shap_values(X_test_DF, approximate=True)\n",
    "\n",
    "# visualize the prediction's explanation\n",
    "shap.summary_plot(shap_values, X_test_DF)"
   ]
  },
  {
   "cell_type": "code",
   "execution_count": 11,
   "metadata": {
    "colab": {
     "base_uri": "https://localhost:8080/",
     "height": 281
    },
    "id": "QMICxCysiAuh",
    "outputId": "131223be-1466-4efd-9f5a-8d60e4b64fbe"
   },
   "outputs": [
    {
     "data": {
      "image/png": "[encoded data removed]",
      "text/plain": [
       "<Figure size 576x280.8 with 2 Axes>"
      ]
     },
     "metadata": {
      "needs_background": "light"
     },
     "output_type": "display_data"
    }
   ],
   "source": [
    "#Explanation according to one class (0 or 1)\n",
    "shap.summary_plot(shap_values[1], X_test_DF)"
   ]
  },
  {
   "cell_type": "markdown",
   "metadata": {
    "id": "Oham9ffdmmMZ"
   },
   "source": [
    "#VI) XGBoost classifier\n",
    "\n"
   ]
  },
  {
   "cell_type": "markdown",
   "metadata": {
    "id": "AYSm8WdGjzk8"
   },
   "source": [
    "### 1)  Train and evaluate a XGBoost Classifier"
   ]
  },
  {
   "cell_type": "code",
   "execution_count": 12,
   "metadata": {
    "colab": {
     "base_uri": "https://localhost:8080/"
    },
    "id": "bel4IxNNml3d",
    "outputId": "46496785-90d2-4366-86d3-fc956828958a"
   },
   "outputs": [
    {
     "name": "stdout",
     "output_type": "stream",
     "text": [
      "0.9923371647509579\n",
      "0.8303571428571429\n"
     ]
    }
   ],
   "source": [
    "# train an XGBoost model\n",
    "model = xgboost.XGBClassifier(max_depth=50).fit(X_train, y_train)\n",
    "\n",
    "print(model.score(X_train, y_train))\n",
    "print(model.score(X_test, y_test))"
   ]
  },
  {
   "cell_type": "markdown",
   "metadata": {
    "id": "xTrdfW-1sKlV"
   },
   "source": [
    "### 2)  Global interpreation of the XGBoost classifier\n",
    "**TODO: interpretate the obtained results**"
   ]
  },
  {
   "cell_type": "code",
   "execution_count": 13,
   "metadata": {
    "colab": {
     "base_uri": "https://localhost:8080/",
     "height": 347,
     "referenced_widgets": [
      "08b1e193baed467d8618958464838ea3",
      "52404d8abf5f48feb8c637ff39f63c05",
      "f7afba76bfd34e6380660326de542d15",
      "7c2fe6730b304cd0a23c0de22ec67f8b",
      "c28b0352fa534153a491d26eebf5e3fb",
      "1084da3a531c47dc9bb2931d7b83dfeb",
      "536905d2412d45428a1d0abd2be8e9bc",
      "a83ab179aa3a4a609c1586fa67cce897",
      "3410318e249145c5b01e5f8d7d404e6f",
      "05edd37ab4df4dc7ad41203be2ab7057",
      "2b12cf037590462ba31bb96f7424964d"
     ]
    },
    "id": "vNsPjdVF2uEP",
    "outputId": "96684169-403c-4b3b-9f59-49390c81d56f"
   },
   "outputs": [
    {
     "name": "stderr",
     "output_type": "stream",
     "text": [
      "Using 261 background data samples could cause slower run times. Consider using shap.sample(data, K) or shap.kmeans(data, K) to summarize the background as K samples.\n"
     ]
    },
    {
     "data": {
      "application/vnd.jupyter.widget-view+json": {
       "model_id": "08b1e193baed467d8618958464838ea3",
       "version_major": 2,
       "version_minor": 0
      },
      "text/plain": [
       "  0%|          | 0/112 [00:00<?, ?it/s]"
      ]
     },
     "metadata": {},
     "output_type": "display_data"
    },
    {
     "data": {
      "image/png": "[encoded data removed]",
      "text/plain": [
       "<Figure size 576x280.8 with 1 Axes>"
      ]
     },
     "metadata": {
      "needs_background": "light"
     },
     "output_type": "display_data"
    }
   ],
   "source": [
    "explainer = shap.KernelExplainer(model.predict_proba,X_train_DF)\n",
    "shap_values = explainer.shap_values(X_test_DF)\n",
    "#shap_values = explainer.shap_values(X_test_DF, approximate=True)\n",
    "# visualize the first prediction's explanation\n",
    "shap.summary_plot(shap_values, X_test_DF,feature_names=[\"M/F\", \"Age\",\"EDUC\",\"SES\",\"eTIV\",\"ASF\"])"
   ]
  },
  {
   "cell_type": "code",
   "execution_count": 14,
   "metadata": {
    "colab": {
     "base_uri": "https://localhost:8080/",
     "height": 281
    },
    "id": "FMznXjeCk5xm",
    "outputId": "65da32cd-54fb-4597-c044-ed940eb207a4"
   },
   "outputs": [
    {
     "data": {
      "image/png": "[encoded data removed]",
      "text/plain": [
       "<Figure size 576x280.8 with 2 Axes>"
      ]
     },
     "metadata": {
      "needs_background": "light"
     },
     "output_type": "display_data"
    }
   ],
   "source": [
    "#Explanation according to one class (0 or 1)\n",
    "shap.summary_plot(shap_values[1], X_test_DF)"
   ]
  },
  {
   "cell_type": "markdown",
   "metadata": {
    "id": "H74r44ukoZwH"
   },
   "source": [
    "#VII) Deep Learning"
   ]
  },
  {
   "cell_type": "markdown",
   "metadata": {
    "id": "l2YLxyquoqMu"
   },
   "source": [
    "### 1)  Define the architecture"
   ]
  },
  {
   "cell_type": "code",
   "execution_count": 15,
   "metadata": {
    "colab": {
     "base_uri": "https://localhost:8080/"
    },
    "id": "LzTPIxTllzpa",
    "outputId": "1ee89fc1-b1b7-4af7-9830-28b893171260"
   },
   "outputs": [
    {
     "name": "stdout",
     "output_type": "stream",
     "text": [
      "Model: \"sequential\"\n",
      "_________________________________________________________________\n",
      " Layer (type)                Output Shape              Param #   \n",
      "=================================================================\n",
      " dense (Dense)               (None, 32)                224       \n",
      "                                                                 \n",
      " dropout (Dropout)           (None, 32)                0         \n",
      "                                                                 \n",
      " dense_1 (Dense)             (None, 64)                2112      \n",
      "                                                                 \n",
      " dropout_1 (Dropout)         (None, 64)                0         \n",
      "                                                                 \n",
      " dense_2 (Dense)             (None, 128)               8320      \n",
      "                                                                 \n",
      " dropout_2 (Dropout)         (None, 128)               0         \n",
      "                                                                 \n",
      " dense_3 (Dense)             (None, 64)                8256      \n",
      "                                                                 \n",
      " dropout_3 (Dropout)         (None, 64)                0         \n",
      "                                                                 \n",
      " dense_4 (Dense)             (None, 32)                2080      \n",
      "                                                                 \n",
      " dropout_4 (Dropout)         (None, 32)                0         \n",
      "                                                                 \n",
      " dense_5 (Dense)             (None, 16)                528       \n",
      "                                                                 \n",
      " dropout_5 (Dropout)         (None, 16)                0         \n",
      "                                                                 \n",
      " dense_6 (Dense)             (None, 4)                 68        \n",
      "                                                                 \n",
      " dropout_6 (Dropout)         (None, 4)                 0         \n",
      "                                                                 \n",
      " dense_7 (Dense)             (None, 2)                 10        \n",
      "                                                                 \n",
      "=================================================================\n",
      "Total params: 21,598\n",
      "Trainable params: 21,598\n",
      "Non-trainable params: 0\n",
      "_________________________________________________________________\n"
     ]
    }
   ],
   "source": [
    "#A Sequential model is appropriate for a plain stack of layers where each layer has exactly one input tensor and one output tensor.\n",
    "model = Sequential()\n",
    "model.add(Dense(32, input_shape=(6,), activation='relu'))\n",
    "model.add(Dropout(0.2))\n",
    "model.add(Dense(64, activation='relu'))\n",
    "model.add(Dropout(0.2))\n",
    "model.add(Dense(128, activation='relu'))\n",
    "model.add(Dropout(0.2))\n",
    "model.add(Dense(64, activation='relu'))\n",
    "model.add(Dropout(0.2))\n",
    "model.add(Dense(32, activation='relu'))\n",
    "model.add(Dropout(0.2))\n",
    "model.add(Dense(16, activation='relu'))\n",
    "model.add(Dropout(0.2))\n",
    "model.add(Dense(4, activation='relu'))\n",
    "model.add(Dropout(0.2))\n",
    "model.add(Dense(2, activation='softmax'))\n",
    "model.compile(loss=\"categorical_crossentropy\", optimizer=\"adam\", metrics=[\"accuracy\"])\n",
    "model.summary()"
   ]
  },
  {
   "cell_type": "markdown",
   "metadata": {
    "id": "JK61B1dNozG-"
   },
   "source": [
    "### 2)  Train and evaluate a Deep Learning based  Classifier"
   ]
  },
  {
   "cell_type": "code",
   "execution_count": 16,
   "metadata": {
    "colab": {
     "base_uri": "https://localhost:8080/"
    },
    "id": "D3O-HQn_mOsN",
    "outputId": "918e783c-249c-49f3-d6d1-08b97b629ee2"
   },
   "outputs": [
    {
     "name": "stdout",
     "output_type": "stream",
     "text": [
      "Epoch 1/100\n",
      "46/46 [==============================] - 2s 10ms/step - loss: 0.7029 - accuracy: 0.5769 - val_loss: 0.6678 - val_accuracy: 0.6456\n",
      "Epoch 2/100\n",
      "46/46 [==============================] - 0s 4ms/step - loss: 0.6803 - accuracy: 0.5769 - val_loss: 0.6687 - val_accuracy: 0.6456\n",
      "Epoch 3/100\n",
      "46/46 [==============================] - 0s 6ms/step - loss: 0.6869 - accuracy: 0.5769 - val_loss: 0.6257 - val_accuracy: 0.6456\n",
      "Epoch 4/100\n",
      "46/46 [==============================] - 0s 6ms/step - loss: 0.6721 - accuracy: 0.5769 - val_loss: 0.6148 - val_accuracy: 0.6456\n",
      "Epoch 5/100\n",
      "46/46 [==============================] - 0s 5ms/step - loss: 0.6712 - accuracy: 0.5769 - val_loss: 0.5883 - val_accuracy: 0.6456\n",
      "Epoch 6/100\n",
      "46/46 [==============================] - 0s 5ms/step - loss: 0.6696 - accuracy: 0.5769 - val_loss: 0.6047 - val_accuracy: 0.6456\n",
      "Epoch 7/100\n",
      "46/46 [==============================] - 0s 5ms/step - loss: 0.6821 - accuracy: 0.5769 - val_loss: 0.6209 - val_accuracy: 0.6456\n",
      "Epoch 8/100\n",
      "46/46 [==============================] - 0s 6ms/step - loss: 0.6472 - accuracy: 0.5769 - val_loss: 0.6058 - val_accuracy: 0.6456\n",
      "Epoch 9/100\n",
      "46/46 [==============================] - 0s 5ms/step - loss: 0.6578 - accuracy: 0.5769 - val_loss: 0.6053 - val_accuracy: 0.6456\n",
      "Epoch 10/100\n",
      "46/46 [==============================] - 0s 5ms/step - loss: 0.6463 - accuracy: 0.5769 - val_loss: 0.5958 - val_accuracy: 0.6456\n",
      "Epoch 11/100\n",
      "46/46 [==============================] - 0s 4ms/step - loss: 0.6556 - accuracy: 0.5769 - val_loss: 0.6059 - val_accuracy: 0.6456\n",
      "Epoch 12/100\n",
      "46/46 [==============================] - 0s 5ms/step - loss: 0.6299 - accuracy: 0.6154 - val_loss: 0.5842 - val_accuracy: 0.6962\n",
      "Epoch 13/100\n",
      "46/46 [==============================] - 0s 4ms/step - loss: 0.6357 - accuracy: 0.6923 - val_loss: 0.5951 - val_accuracy: 0.6582\n",
      "Epoch 14/100\n",
      "46/46 [==============================] - 0s 4ms/step - loss: 0.6407 - accuracy: 0.6319 - val_loss: 0.5935 - val_accuracy: 0.6582\n",
      "Epoch 15/100\n",
      "46/46 [==============================] - 0s 4ms/step - loss: 0.6525 - accuracy: 0.6648 - val_loss: 0.6107 - val_accuracy: 0.6582\n",
      "Epoch 16/100\n",
      "46/46 [==============================] - 0s 4ms/step - loss: 0.6499 - accuracy: 0.6154 - val_loss: 0.6063 - val_accuracy: 0.6709\n",
      "Epoch 17/100\n",
      "46/46 [==============================] - 0s 4ms/step - loss: 0.6205 - accuracy: 0.6538 - val_loss: 0.5777 - val_accuracy: 0.6962\n",
      "Epoch 18/100\n",
      "46/46 [==============================] - 0s 4ms/step - loss: 0.6480 - accuracy: 0.6099 - val_loss: 0.5990 - val_accuracy: 0.6709\n",
      "Epoch 19/100\n",
      "46/46 [==============================] - 0s 5ms/step - loss: 0.6171 - accuracy: 0.6538 - val_loss: 0.5841 - val_accuracy: 0.6709\n",
      "Epoch 20/100\n",
      "46/46 [==============================] - 0s 5ms/step - loss: 0.6424 - accuracy: 0.5879 - val_loss: 0.6173 - val_accuracy: 0.6709\n",
      "Epoch 21/100\n",
      "46/46 [==============================] - 0s 6ms/step - loss: 0.6118 - accuracy: 0.6264 - val_loss: 0.5761 - val_accuracy: 0.7089\n",
      "Epoch 22/100\n",
      "46/46 [==============================] - 0s 5ms/step - loss: 0.6283 - accuracy: 0.6648 - val_loss: 0.5944 - val_accuracy: 0.6582\n",
      "Epoch 23/100\n",
      "46/46 [==============================] - 0s 4ms/step - loss: 0.6166 - accuracy: 0.6593 - val_loss: 0.5943 - val_accuracy: 0.6582\n",
      "Epoch 24/100\n",
      "46/46 [==============================] - 0s 4ms/step - loss: 0.6114 - accuracy: 0.6703 - val_loss: 0.5788 - val_accuracy: 0.6835\n",
      "Epoch 25/100\n",
      "46/46 [==============================] - 0s 4ms/step - loss: 0.5881 - accuracy: 0.6703 - val_loss: 0.5733 - val_accuracy: 0.7089\n",
      "Epoch 26/100\n",
      "46/46 [==============================] - 0s 4ms/step - loss: 0.6145 - accuracy: 0.6868 - val_loss: 0.5759 - val_accuracy: 0.6835\n",
      "Epoch 27/100\n",
      "46/46 [==============================] - 0s 5ms/step - loss: 0.6168 - accuracy: 0.6538 - val_loss: 0.5885 - val_accuracy: 0.6582\n",
      "Epoch 28/100\n",
      "46/46 [==============================] - 0s 4ms/step - loss: 0.6284 - accuracy: 0.6484 - val_loss: 0.5972 - val_accuracy: 0.6582\n",
      "Epoch 29/100\n",
      "46/46 [==============================] - 0s 4ms/step - loss: 0.6001 - accuracy: 0.6648 - val_loss: 0.5792 - val_accuracy: 0.6456\n",
      "Epoch 30/100\n",
      "46/46 [==============================] - 0s 4ms/step - loss: 0.6404 - accuracy: 0.6374 - val_loss: 0.5847 - val_accuracy: 0.6329\n",
      "Epoch 31/100\n",
      "46/46 [==============================] - 0s 5ms/step - loss: 0.6377 - accuracy: 0.6648 - val_loss: 0.5915 - val_accuracy: 0.6203\n",
      "Epoch 32/100\n",
      "46/46 [==============================] - 0s 4ms/step - loss: 0.5888 - accuracy: 0.6813 - val_loss: 0.5770 - val_accuracy: 0.5949\n",
      "Epoch 33/100\n",
      "46/46 [==============================] - 0s 3ms/step - loss: 0.5987 - accuracy: 0.6484 - val_loss: 0.5787 - val_accuracy: 0.6203\n",
      "Epoch 34/100\n",
      "46/46 [==============================] - 0s 5ms/step - loss: 0.5603 - accuracy: 0.6923 - val_loss: 0.5774 - val_accuracy: 0.6329\n",
      "Epoch 35/100\n",
      "46/46 [==============================] - 0s 4ms/step - loss: 0.5691 - accuracy: 0.7308 - val_loss: 0.5695 - val_accuracy: 0.6709\n",
      "Epoch 36/100\n",
      "46/46 [==============================] - 0s 4ms/step - loss: 0.6372 - accuracy: 0.6538 - val_loss: 0.5867 - val_accuracy: 0.6456\n",
      "Epoch 37/100\n",
      "46/46 [==============================] - 0s 4ms/step - loss: 0.5936 - accuracy: 0.6868 - val_loss: 0.5802 - val_accuracy: 0.6329\n",
      "Epoch 38/100\n",
      "46/46 [==============================] - 0s 4ms/step - loss: 0.5794 - accuracy: 0.6758 - val_loss: 0.5766 - val_accuracy: 0.6456\n",
      "Epoch 39/100\n",
      "46/46 [==============================] - 0s 3ms/step - loss: 0.6041 - accuracy: 0.6593 - val_loss: 0.5921 - val_accuracy: 0.6456\n",
      "Epoch 40/100\n",
      "46/46 [==============================] - 0s 4ms/step - loss: 0.5563 - accuracy: 0.6593 - val_loss: 0.5830 - val_accuracy: 0.6203\n",
      "Epoch 41/100\n",
      "46/46 [==============================] - 0s 5ms/step - loss: 0.5730 - accuracy: 0.6923 - val_loss: 0.5795 - val_accuracy: 0.6203\n",
      "Epoch 42/100\n",
      "46/46 [==============================] - 0s 4ms/step - loss: 0.5611 - accuracy: 0.6703 - val_loss: 0.5810 - val_accuracy: 0.6203\n",
      "Epoch 43/100\n",
      "46/46 [==============================] - 0s 4ms/step - loss: 0.5784 - accuracy: 0.6813 - val_loss: 0.5780 - val_accuracy: 0.6709\n",
      "Epoch 44/100\n",
      "46/46 [==============================] - 0s 4ms/step - loss: 0.5894 - accuracy: 0.6813 - val_loss: 0.5767 - val_accuracy: 0.7468\n",
      "Epoch 45/100\n",
      "46/46 [==============================] - 0s 5ms/step - loss: 0.5733 - accuracy: 0.6813 - val_loss: 0.5582 - val_accuracy: 0.7468\n",
      "Epoch 46/100\n",
      "46/46 [==============================] - 0s 5ms/step - loss: 0.5831 - accuracy: 0.7088 - val_loss: 0.5677 - val_accuracy: 0.7215\n",
      "Epoch 47/100\n",
      "46/46 [==============================] - 0s 5ms/step - loss: 0.5826 - accuracy: 0.7033 - val_loss: 0.5660 - val_accuracy: 0.7342\n",
      "Epoch 48/100\n",
      "46/46 [==============================] - 0s 6ms/step - loss: 0.5715 - accuracy: 0.6868 - val_loss: 0.5597 - val_accuracy: 0.7722\n",
      "Epoch 49/100\n",
      "46/46 [==============================] - 0s 5ms/step - loss: 0.5625 - accuracy: 0.6758 - val_loss: 0.5525 - val_accuracy: 0.7468\n",
      "Epoch 50/100\n",
      "46/46 [==============================] - 0s 5ms/step - loss: 0.5662 - accuracy: 0.6923 - val_loss: 0.5856 - val_accuracy: 0.6962\n",
      "Epoch 51/100\n",
      "46/46 [==============================] - 0s 4ms/step - loss: 0.5525 - accuracy: 0.7253 - val_loss: 0.5781 - val_accuracy: 0.6582\n",
      "Epoch 52/100\n",
      "46/46 [==============================] - 0s 3ms/step - loss: 0.5627 - accuracy: 0.6703 - val_loss: 0.5798 - val_accuracy: 0.6456\n",
      "Epoch 53/100\n",
      "46/46 [==============================] - 0s 5ms/step - loss: 0.5454 - accuracy: 0.7308 - val_loss: 0.5770 - val_accuracy: 0.6835\n",
      "Epoch 54/100\n",
      "46/46 [==============================] - 0s 5ms/step - loss: 0.5642 - accuracy: 0.6978 - val_loss: 0.5943 - val_accuracy: 0.6582\n",
      "Epoch 55/100\n",
      "46/46 [==============================] - 0s 3ms/step - loss: 0.5467 - accuracy: 0.7033 - val_loss: 0.6194 - val_accuracy: 0.6076\n",
      "Epoch 56/100\n",
      "46/46 [==============================] - 0s 4ms/step - loss: 0.5316 - accuracy: 0.7143 - val_loss: 0.5662 - val_accuracy: 0.7848\n",
      "Epoch 57/100\n",
      "46/46 [==============================] - 0s 4ms/step - loss: 0.5513 - accuracy: 0.7088 - val_loss: 0.5653 - val_accuracy: 0.7722\n",
      "Epoch 58/100\n",
      "46/46 [==============================] - 0s 5ms/step - loss: 0.5258 - accuracy: 0.7033 - val_loss: 0.6041 - val_accuracy: 0.6329\n",
      "Epoch 59/100\n",
      "46/46 [==============================] - 0s 5ms/step - loss: 0.5598 - accuracy: 0.6923 - val_loss: 0.5953 - val_accuracy: 0.6582\n",
      "Epoch 60/100\n",
      "46/46 [==============================] - 0s 5ms/step - loss: 0.6076 - accuracy: 0.6923 - val_loss: 0.5685 - val_accuracy: 0.7089\n",
      "Epoch 61/100\n",
      "46/46 [==============================] - 0s 5ms/step - loss: 0.5394 - accuracy: 0.7857 - val_loss: 0.5578 - val_accuracy: 0.7848\n",
      "Epoch 62/100\n",
      "46/46 [==============================] - 0s 6ms/step - loss: 0.5405 - accuracy: 0.7198 - val_loss: 0.5538 - val_accuracy: 0.8101\n",
      "Epoch 63/100\n",
      "46/46 [==============================] - 0s 6ms/step - loss: 0.5692 - accuracy: 0.6648 - val_loss: 0.5761 - val_accuracy: 0.6962\n",
      "Epoch 64/100\n",
      "46/46 [==============================] - 0s 5ms/step - loss: 0.5130 - accuracy: 0.7418 - val_loss: 0.5711 - val_accuracy: 0.7848\n",
      "Epoch 65/100\n",
      "46/46 [==============================] - 0s 4ms/step - loss: 0.5295 - accuracy: 0.7253 - val_loss: 0.5656 - val_accuracy: 0.7975\n",
      "Epoch 66/100\n",
      "46/46 [==============================] - 0s 6ms/step - loss: 0.5482 - accuracy: 0.7308 - val_loss: 0.5975 - val_accuracy: 0.6962\n",
      "Epoch 67/100\n",
      "46/46 [==============================] - 0s 5ms/step - loss: 0.5142 - accuracy: 0.7308 - val_loss: 0.5676 - val_accuracy: 0.7468\n",
      "Epoch 68/100\n",
      "46/46 [==============================] - 0s 4ms/step - loss: 0.5179 - accuracy: 0.7363 - val_loss: 0.5767 - val_accuracy: 0.7722\n",
      "Epoch 69/100\n",
      "46/46 [==============================] - 0s 4ms/step - loss: 0.5380 - accuracy: 0.6923 - val_loss: 0.5671 - val_accuracy: 0.6835\n",
      "Epoch 70/100\n",
      "46/46 [==============================] - 0s 5ms/step - loss: 0.5460 - accuracy: 0.6758 - val_loss: 0.6106 - val_accuracy: 0.6582\n",
      "Epoch 71/100\n",
      "46/46 [==============================] - 0s 5ms/step - loss: 0.5135 - accuracy: 0.7363 - val_loss: 0.5769 - val_accuracy: 0.7089\n",
      "Epoch 72/100\n",
      "46/46 [==============================] - 0s 5ms/step - loss: 0.5181 - accuracy: 0.7253 - val_loss: 0.5578 - val_accuracy: 0.7595\n",
      "Epoch 73/100\n",
      "46/46 [==============================] - 0s 3ms/step - loss: 0.5332 - accuracy: 0.7198 - val_loss: 0.5680 - val_accuracy: 0.7468\n",
      "Epoch 74/100\n",
      "46/46 [==============================] - 0s 4ms/step - loss: 0.5723 - accuracy: 0.6703 - val_loss: 0.6062 - val_accuracy: 0.6456\n",
      "Epoch 75/100\n",
      "46/46 [==============================] - 0s 4ms/step - loss: 0.5495 - accuracy: 0.6978 - val_loss: 0.5746 - val_accuracy: 0.7848\n",
      "Epoch 76/100\n",
      "46/46 [==============================] - 0s 5ms/step - loss: 0.5948 - accuracy: 0.7253 - val_loss: 0.5539 - val_accuracy: 0.6835\n",
      "Epoch 77/100\n",
      "46/46 [==============================] - 0s 5ms/step - loss: 0.5417 - accuracy: 0.6978 - val_loss: 0.5683 - val_accuracy: 0.7468\n",
      "Epoch 78/100\n",
      "46/46 [==============================] - 0s 6ms/step - loss: 0.5265 - accuracy: 0.7143 - val_loss: 0.5508 - val_accuracy: 0.7848\n",
      "Epoch 79/100\n",
      "46/46 [==============================] - 0s 4ms/step - loss: 0.4862 - accuracy: 0.7747 - val_loss: 0.6177 - val_accuracy: 0.7342\n",
      "Epoch 80/100\n",
      "46/46 [==============================] - 0s 6ms/step - loss: 0.5148 - accuracy: 0.7088 - val_loss: 0.6054 - val_accuracy: 0.6203\n",
      "Epoch 81/100\n",
      "46/46 [==============================] - 0s 5ms/step - loss: 0.4841 - accuracy: 0.7418 - val_loss: 0.5882 - val_accuracy: 0.7722\n",
      "Epoch 82/100\n",
      "46/46 [==============================] - 0s 4ms/step - loss: 0.5160 - accuracy: 0.7418 - val_loss: 0.5639 - val_accuracy: 0.7975\n",
      "Epoch 83/100\n",
      "46/46 [==============================] - 0s 5ms/step - loss: 0.5265 - accuracy: 0.7198 - val_loss: 0.5645 - val_accuracy: 0.7722\n",
      "Epoch 84/100\n",
      "46/46 [==============================] - 0s 4ms/step - loss: 0.5054 - accuracy: 0.7473 - val_loss: 0.5561 - val_accuracy: 0.7722\n",
      "Epoch 85/100\n",
      "46/46 [==============================] - 0s 4ms/step - loss: 0.4917 - accuracy: 0.7527 - val_loss: 0.5446 - val_accuracy: 0.8101\n",
      "Epoch 86/100\n",
      "46/46 [==============================] - 0s 5ms/step - loss: 0.5079 - accuracy: 0.7912 - val_loss: 0.5266 - val_accuracy: 0.8481\n",
      "Epoch 87/100\n",
      "46/46 [==============================] - 0s 5ms/step - loss: 0.5148 - accuracy: 0.7527 - val_loss: 0.5240 - val_accuracy: 0.8228\n",
      "Epoch 88/100\n",
      "46/46 [==============================] - 0s 4ms/step - loss: 0.4927 - accuracy: 0.7473 - val_loss: 0.5448 - val_accuracy: 0.8481\n",
      "Epoch 89/100\n",
      "46/46 [==============================] - 0s 4ms/step - loss: 0.5026 - accuracy: 0.7802 - val_loss: 0.5974 - val_accuracy: 0.7215\n",
      "Epoch 90/100\n",
      "46/46 [==============================] - 0s 4ms/step - loss: 0.5197 - accuracy: 0.7473 - val_loss: 0.5250 - val_accuracy: 0.8101\n",
      "Epoch 91/100\n",
      "46/46 [==============================] - 0s 5ms/step - loss: 0.5261 - accuracy: 0.7363 - val_loss: 0.5833 - val_accuracy: 0.7595\n",
      "Epoch 92/100\n",
      "46/46 [==============================] - 0s 4ms/step - loss: 0.5533 - accuracy: 0.7308 - val_loss: 0.5692 - val_accuracy: 0.7595\n",
      "Epoch 93/100\n",
      "46/46 [==============================] - 0s 5ms/step - loss: 0.5027 - accuracy: 0.7363 - val_loss: 0.5523 - val_accuracy: 0.7722\n",
      "Epoch 94/100\n",
      "46/46 [==============================] - 0s 4ms/step - loss: 0.5005 - accuracy: 0.7308 - val_loss: 0.5362 - val_accuracy: 0.8354\n",
      "Epoch 95/100\n",
      "46/46 [==============================] - 0s 5ms/step - loss: 0.4866 - accuracy: 0.7527 - val_loss: 0.5899 - val_accuracy: 0.8354\n",
      "Epoch 96/100\n",
      "46/46 [==============================] - 0s 5ms/step - loss: 0.4999 - accuracy: 0.7418 - val_loss: 0.5576 - val_accuracy: 0.8354\n",
      "Epoch 97/100\n",
      "46/46 [==============================] - 0s 5ms/step - loss: 0.5422 - accuracy: 0.7198 - val_loss: 0.5553 - val_accuracy: 0.8101\n",
      "Epoch 98/100\n",
      "46/46 [==============================] - 0s 5ms/step - loss: 0.4819 - accuracy: 0.7692 - val_loss: 0.5901 - val_accuracy: 0.8228\n",
      "Epoch 99/100\n",
      "46/46 [==============================] - 0s 6ms/step - loss: 0.5117 - accuracy: 0.7143 - val_loss: 0.5726 - val_accuracy: 0.7722\n",
      "Epoch 100/100\n",
      "46/46 [==============================] - 0s 6ms/step - loss: 0.4921 - accuracy: 0.7473 - val_loss: 0.5805 - val_accuracy: 0.8228\n",
      "4/4 [==============================] - 0s 4ms/step - loss: 0.4935 - accuracy: 0.7411\n"
     ]
    },
    {
     "data": {
      "text/plain": [
       "[0.49353617429733276, 0.7410714030265808]"
      ]
     },
     "execution_count": 16,
     "metadata": {},
     "output_type": "execute_result"
    }
   ],
   "source": [
    "y_test_cat = to_categorical(y_test, 2)\n",
    "y_train_cat =to_categorical(y_train, 2)\n",
    "model.fit(np.asarray(X_train), np.asarray(y_train_cat), validation_split=0.3, epochs=100, verbose=1,batch_size=4)\n",
    "model.evaluate(X_test,y_test_cat)"
   ]
  },
  {
   "cell_type": "markdown",
   "metadata": {
    "id": "bU5zclPmpJEn"
   },
   "source": [
    "### 2)  Global interpreation of the DL classifier\n",
    "**TODO: interpretate the obtained results**"
   ]
  },
  {
   "cell_type": "code",
   "execution_count": 17,
   "metadata": {
    "colab": {
     "base_uri": "https://localhost:8080/",
     "height": 347,
     "referenced_widgets": [
      "96cb31b7952d4cea8c67a13cd9eb26a8",
      "3c4c8af813ef4a908c03daf50610f94b",
      "f892295dd713449d9de30f773f3bb0ab",
      "8bce18232edd42749d201b2ed06aaf36",
      "e7788f12b5944aa2867c386a8e273c49",
      "3452c6b0d208485b88aed22803ab0995",
      "deb20131f5f84c438fdd221fcdf2d46d",
      "e455eee7c80446f6b4610e6193de5ffe",
      "17cebc8648804e8fbf53dc7257aaaeda",
      "34ab6006feec464686c80d062be98b9c",
      "ed78aebf0cfc4cc8b149c0c8b7e89057"
     ]
    },
    "id": "jYcoaKK-nmp0",
    "outputId": "f34dbe2c-5eb5-4408-d4c0-253cd23c9969"
   },
   "outputs": [
    {
     "name": "stderr",
     "output_type": "stream",
     "text": [
      "Using 261 background data samples could cause slower run times. Consider using shap.sample(data, K) or shap.kmeans(data, K) to summarize the background as K samples.\n"
     ]
    },
    {
     "data": {
      "application/vnd.jupyter.widget-view+json": {
       "model_id": "96cb31b7952d4cea8c67a13cd9eb26a8",
       "version_major": 2,
       "version_minor": 0
      },
      "text/plain": [
       "  0%|          | 0/112 [00:00<?, ?it/s]"
      ]
     },
     "metadata": {},
     "output_type": "display_data"
    },
    {
     "data": {
      "image/png": "[encoded data removed]",
      "text/plain": [
       "<Figure size 576x280.8 with 1 Axes>"
      ]
     },
     "metadata": {
      "needs_background": "light"
     },
     "output_type": "display_data"
    }
   ],
   "source": [
    "explainer = shap.KernelExplainer(model.predict,X_train_DF)\n",
    "shap_values = explainer.shap_values(X_test_DF)\n",
    "\n",
    "# visualize the first prediction's explanation with a summary plot\n",
    "shap.summary_plot(shap_values, X_test_DF,feature_names=[\"M/F\", \"Age\",\"EDUC\",\"SES\",\"eTIV\",\"ASF\"])"
   ]
  },
  {
   "cell_type": "code",
   "execution_count": 18,
   "metadata": {
    "colab": {
     "base_uri": "https://localhost:8080/",
     "height": 281
    },
    "id": "sawCSaC0pS9e",
    "outputId": "bb8b7c18-c9b6-45b7-9530-d2adfac5d546"
   },
   "outputs": [
    {
     "data": {
      "image/png": "[encoded data removed]",
      "text/plain": [
       "<Figure size 576x280.8 with 2 Axes>"
      ]
     },
     "metadata": {
      "needs_background": "light"
     },
     "output_type": "display_data"
    }
   ],
   "source": [
    "#Explanation according to one class (0 or 1)\n",
    "shap.summary_plot(shap_values[1], X_test_DF,feature_names=[\"M/F\", \"Age\",\"EDUC\",\"SES\",\"eTIV\",\"ASF\"])"
   ]
  }
 ],
 "metadata": {
  "colab": {
   "collapsed_sections": [],
   "name": "Interpretability_of_Machine_Learning_Algorithms_Alzheimer's_Application.ipynb",
   "provenance": []
  },
  "kernelspec": {
   "display_name": "Python 3",
   "language": "python",
   "name": "python3"
  },
  "language_info": {
   "codemirror_mode": {
    "name": "ipython",
    "version": 3
   },
   "file_extension": ".py",
   "mimetype": "text/x-python",
   "name": "python",
   "nbconvert_exporter": "python",
   "pygments_lexer": "ipython3",
   "version": "3.8.3"
  },
  "widgets": {
   "application/vnd.jupyter.widget-state+json": {
    "05edd37ab4df4dc7ad41203be2ab7057": {
     "model_module": "@jupyter-widgets/controls",
     "model_module_version": "1.5.0",
     "model_name": "DescriptionStyleModel",
     "state": {
      "_model_module": "@jupyter-widgets/controls",
      "_model_module_version": "1.5.0",
      "_model_name": "DescriptionStyleModel",
      "_view_count": null,
      "_view_module": "@jupyter-widgets/base",
      "_view_module_version": "1.2.0",
      "_view_name": "StyleView",
      "description_width": ""
     }
    },
    "08b1e193baed467d8618958464838ea3": {
     "model_module": "@jupyter-widgets/controls",
     "model_module_version": "1.5.0",
     "model_name": "HBoxModel",
     "state": {
      "_dom_classes": [],
      "_model_module": "@jupyter-widgets/controls",
      "_model_module_version": "1.5.0",
      "_model_name": "HBoxModel",
      "_view_count": null,
      "_view_module": "@jupyter-widgets/controls",
      "_view_module_version": "1.5.0",
      "_view_name": "HBoxView",
      "box_style": "",
      "children": [
       "IPY_MODEL_f7afba76bfd34e6380660326de542d15",
       "IPY_MODEL_7c2fe6730b304cd0a23c0de22ec67f8b",
       "IPY_MODEL_c28b0352fa534153a491d26eebf5e3fb"
      ],
      "layout": "IPY_MODEL_52404d8abf5f48feb8c637ff39f63c05"
     }
    },
    "1084da3a531c47dc9bb2931d7b83dfeb": {
     "model_module": "@jupyter-widgets/controls",
     "model_module_version": "1.5.0",
     "model_name": "DescriptionStyleModel",
     "state": {
      "_model_module": "@jupyter-widgets/controls",
      "_model_module_version": "1.5.0",
      "_model_name": "DescriptionStyleModel",
      "_view_count": null,
      "_view_module": "@jupyter-widgets/base",
      "_view_module_version": "1.2.0",
      "_view_name": "StyleView",
      "description_width": ""
     }
    },
    "14b6f03f490d40ef85a6e7ce24fdafb8": {
     "model_module": "@jupyter-widgets/base",
     "model_module_version": "1.2.0",
     "model_name": "LayoutModel",
     "state": {
      "_model_module": "@jupyter-widgets/base",
      "_model_module_version": "1.2.0",
      "_model_name": "LayoutModel",
      "_view_count": null,
      "_view_module": "@jupyter-widgets/base",
      "_view_module_version": "1.2.0",
      "_view_name": "LayoutView",
      "align_content": null,
      "align_items": null,
      "align_self": null,
      "border": null,
      "bottom": null,
      "display": null,
      "flex": null,
      "flex_flow": null,
      "grid_area": null,
      "grid_auto_columns": null,
      "grid_auto_flow": null,
      "grid_auto_rows": null,
      "grid_column": null,
      "grid_gap": null,
      "grid_row": null,
      "grid_template_areas": null,
      "grid_template_columns": null,
      "grid_template_rows": null,
      "height": null,
      "justify_content": null,
      "justify_items": null,
      "left": null,
      "margin": null,
      "max_height": null,
      "max_width": null,
      "min_height": null,
      "min_width": null,
      "object_fit": null,
      "object_position": null,
      "order": null,
      "overflow": null,
      "overflow_x": null,
      "overflow_y": null,
      "padding": null,
      "right": null,
      "top": null,
      "visibility": null,
      "width": null
     }
    },
    "17cebc8648804e8fbf53dc7257aaaeda": {
     "model_module": "@jupyter-widgets/base",
     "model_module_version": "1.2.0",
     "model_name": "LayoutModel",
     "state": {
      "_model_module": "@jupyter-widgets/base",
      "_model_module_version": "1.2.0",
      "_model_name": "LayoutModel",
      "_view_count": null,
      "_view_module": "@jupyter-widgets/base",
      "_view_module_version": "1.2.0",
      "_view_name": "LayoutView",
      "align_content": null,
      "align_items": null,
      "align_self": null,
      "border": null,
      "bottom": null,
      "display": null,
      "flex": null,
      "flex_flow": null,
      "grid_area": null,
      "grid_auto_columns": null,
      "grid_auto_flow": null,
      "grid_auto_rows": null,
      "grid_column": null,
      "grid_gap": null,
      "grid_row": null,
      "grid_template_areas": null,
      "grid_template_columns": null,
      "grid_template_rows": null,
      "height": null,
      "justify_content": null,
      "justify_items": null,
      "left": null,
      "margin": null,
      "max_height": null,
      "max_width": null,
      "min_height": null,
      "min_width": null,
      "object_fit": null,
      "object_position": null,
      "order": null,
      "overflow": null,
      "overflow_x": null,
      "overflow_y": null,
      "padding": null,
      "right": null,
      "top": null,
      "visibility": null,
      "width": null
     }
    },
    "2b12cf037590462ba31bb96f7424964d": {
     "model_module": "@jupyter-widgets/base",
     "model_module_version": "1.2.0",
     "model_name": "LayoutModel",
     "state": {
      "_model_module": "@jupyter-widgets/base",
      "_model_module_version": "1.2.0",
      "_model_name": "LayoutModel",
      "_view_count": null,
      "_view_module": "@jupyter-widgets/base",
      "_view_module_version": "1.2.0",
      "_view_name": "LayoutView",
      "align_content": null,
      "align_items": null,
      "align_self": null,
      "border": null,
      "bottom": null,
      "display": null,
      "flex": null,
      "flex_flow": null,
      "grid_area": null,
      "grid_auto_columns": null,
      "grid_auto_flow": null,
      "grid_auto_rows": null,
      "grid_column": null,
      "grid_gap": null,
      "grid_row": null,
      "grid_template_areas": null,
      "grid_template_columns": null,
      "grid_template_rows": null,
      "height": null,
      "justify_content": null,
      "justify_items": null,
      "left": null,
      "margin": null,
      "max_height": null,
      "max_width": null,
      "min_height": null,
      "min_width": null,
      "object_fit": null,
      "object_position": null,
      "order": null,
      "overflow": null,
      "overflow_x": null,
      "overflow_y": null,
      "padding": null,
      "right": null,
      "top": null,
      "visibility": null,
      "width": null
     }
    },
    "3359ff1b6e6b43b0a4b679a5fbd2ba3e": {
     "model_module": "@jupyter-widgets/controls",
     "model_module_version": "1.5.0",
     "model_name": "ProgressStyleModel",
     "state": {
      "_model_module": "@jupyter-widgets/controls",
      "_model_module_version": "1.5.0",
      "_model_name": "ProgressStyleModel",
      "_view_count": null,
      "_view_module": "@jupyter-widgets/base",
      "_view_module_version": "1.2.0",
      "_view_name": "StyleView",
      "bar_color": null,
      "description_width": ""
     }
    },
    "3410318e249145c5b01e5f8d7d404e6f": {
     "model_module": "@jupyter-widgets/base",
     "model_module_version": "1.2.0",
     "model_name": "LayoutModel",
     "state": {
      "_model_module": "@jupyter-widgets/base",
      "_model_module_version": "1.2.0",
      "_model_name": "LayoutModel",
      "_view_count": null,
      "_view_module": "@jupyter-widgets/base",
      "_view_module_version": "1.2.0",
      "_view_name": "LayoutView",
      "align_content": null,
      "align_items": null,
      "align_self": null,
      "border": null,
      "bottom": null,
      "display": null,
      "flex": null,
      "flex_flow": null,
      "grid_area": null,
      "grid_auto_columns": null,
      "grid_auto_flow": null,
      "grid_auto_rows": null,
      "grid_column": null,
      "grid_gap": null,
      "grid_row": null,
      "grid_template_areas": null,
      "grid_template_columns": null,
      "grid_template_rows": null,
      "height": null,
      "justify_content": null,
      "justify_items": null,
      "left": null,
      "margin": null,
      "max_height": null,
      "max_width": null,
      "min_height": null,
      "min_width": null,
      "object_fit": null,
      "object_position": null,
      "order": null,
      "overflow": null,
      "overflow_x": null,
      "overflow_y": null,
      "padding": null,
      "right": null,
      "top": null,
      "visibility": null,
      "width": null
     }
    },
    "3452c6b0d208485b88aed22803ab0995": {
     "model_module": "@jupyter-widgets/controls",
     "model_module_version": "1.5.0",
     "model_name": "DescriptionStyleModel",
     "state": {
      "_model_module": "@jupyter-widgets/controls",
      "_model_module_version": "1.5.0",
      "_model_name": "DescriptionStyleModel",
      "_view_count": null,
      "_view_module": "@jupyter-widgets/base",
      "_view_module_version": "1.2.0",
      "_view_name": "StyleView",
      "description_width": ""
     }
    },
    "34ab6006feec464686c80d062be98b9c": {
     "model_module": "@jupyter-widgets/controls",
     "model_module_version": "1.5.0",
     "model_name": "DescriptionStyleModel",
     "state": {
      "_model_module": "@jupyter-widgets/controls",
      "_model_module_version": "1.5.0",
      "_model_name": "DescriptionStyleModel",
      "_view_count": null,
      "_view_module": "@jupyter-widgets/base",
      "_view_module_version": "1.2.0",
      "_view_name": "StyleView",
      "description_width": ""
     }
    },
    "3577289127a940cc8747d585bbd58d30": {
     "model_module": "@jupyter-widgets/base",
     "model_module_version": "1.2.0",
     "model_name": "LayoutModel",
     "state": {
      "_model_module": "@jupyter-widgets/base",
      "_model_module_version": "1.2.0",
      "_model_name": "LayoutModel",
      "_view_count": null,
      "_view_module": "@jupyter-widgets/base",
      "_view_module_version": "1.2.0",
      "_view_name": "LayoutView",
      "align_content": null,
      "align_items": null,
      "align_self": null,
      "border": null,
      "bottom": null,
      "display": null,
      "flex": null,
      "flex_flow": null,
      "grid_area": null,
      "grid_auto_columns": null,
      "grid_auto_flow": null,
      "grid_auto_rows": null,
      "grid_column": null,
      "grid_gap": null,
      "grid_row": null,
      "grid_template_areas": null,
      "grid_template_columns": null,
      "grid_template_rows": null,
      "height": null,
      "justify_content": null,
      "justify_items": null,
      "left": null,
      "margin": null,
      "max_height": null,
      "max_width": null,
      "min_height": null,
      "min_width": null,
      "object_fit": null,
      "object_position": null,
      "order": null,
      "overflow": null,
      "overflow_x": null,
      "overflow_y": null,
      "padding": null,
      "right": null,
      "top": null,
      "visibility": null,
      "width": null
     }
    },
    "3c4c8af813ef4a908c03daf50610f94b": {
     "model_module": "@jupyter-widgets/base",
     "model_module_version": "1.2.0",
     "model_name": "LayoutModel",
     "state": {
      "_model_module": "@jupyter-widgets/base",
      "_model_module_version": "1.2.0",
      "_model_name": "LayoutModel",
      "_view_count": null,
      "_view_module": "@jupyter-widgets/base",
      "_view_module_version": "1.2.0",
      "_view_name": "LayoutView",
      "align_content": null,
      "align_items": null,
      "align_self": null,
      "border": null,
      "bottom": null,
      "display": null,
      "flex": null,
      "flex_flow": null,
      "grid_area": null,
      "grid_auto_columns": null,
      "grid_auto_flow": null,
      "grid_auto_rows": null,
      "grid_column": null,
      "grid_gap": null,
      "grid_row": null,
      "grid_template_areas": null,
      "grid_template_columns": null,
      "grid_template_rows": null,
      "height": null,
      "justify_content": null,
      "justify_items": null,
      "left": null,
      "margin": null,
      "max_height": null,
      "max_width": null,
      "min_height": null,
      "min_width": null,
      "object_fit": null,
      "object_position": null,
      "order": null,
      "overflow": null,
      "overflow_x": null,
      "overflow_y": null,
      "padding": null,
      "right": null,
      "top": null,
      "visibility": null,
      "width": null
     }
    },
    "3fcea00442a24d399a2439452265c6e4": {
     "model_module": "@jupyter-widgets/base",
     "model_module_version": "1.2.0",
     "model_name": "LayoutModel",
     "state": {
      "_model_module": "@jupyter-widgets/base",
      "_model_module_version": "1.2.0",
      "_model_name": "LayoutModel",
      "_view_count": null,
      "_view_module": "@jupyter-widgets/base",
      "_view_module_version": "1.2.0",
      "_view_name": "LayoutView",
      "align_content": null,
      "align_items": null,
      "align_self": null,
      "border": null,
      "bottom": null,
      "display": null,
      "flex": null,
      "flex_flow": null,
      "grid_area": null,
      "grid_auto_columns": null,
      "grid_auto_flow": null,
      "grid_auto_rows": null,
      "grid_column": null,
      "grid_gap": null,
      "grid_row": null,
      "grid_template_areas": null,
      "grid_template_columns": null,
      "grid_template_rows": null,
      "height": null,
      "justify_content": null,
      "justify_items": null,
      "left": null,
      "margin": null,
      "max_height": null,
      "max_width": null,
      "min_height": null,
      "min_width": null,
      "object_fit": null,
      "object_position": null,
      "order": null,
      "overflow": null,
      "overflow_x": null,
      "overflow_y": null,
      "padding": null,
      "right": null,
      "top": null,
      "visibility": null,
      "width": null
     }
    },
    "4f026354b5b145feb707d1af0e2e5f7b": {
     "model_module": "@jupyter-widgets/controls",
     "model_module_version": "1.5.0",
     "model_name": "ProgressStyleModel",
     "state": {
      "_model_module": "@jupyter-widgets/controls",
      "_model_module_version": "1.5.0",
      "_model_name": "ProgressStyleModel",
      "_view_count": null,
      "_view_module": "@jupyter-widgets/base",
      "_view_module_version": "1.2.0",
      "_view_name": "StyleView",
      "bar_color": null,
      "description_width": ""
     }
    },
    "4f5af2394218415abf9d72f86bcc76fa": {
     "model_module": "@jupyter-widgets/controls",
     "model_module_version": "1.5.0",
     "model_name": "DescriptionStyleModel",
     "state": {
      "_model_module": "@jupyter-widgets/controls",
      "_model_module_version": "1.5.0",
      "_model_name": "DescriptionStyleModel",
      "_view_count": null,
      "_view_module": "@jupyter-widgets/base",
      "_view_module_version": "1.2.0",
      "_view_name": "StyleView",
      "description_width": ""
     }
    },
    "52404d8abf5f48feb8c637ff39f63c05": {
     "model_module": "@jupyter-widgets/base",
     "model_module_version": "1.2.0",
     "model_name": "LayoutModel",
     "state": {
      "_model_module": "@jupyter-widgets/base",
      "_model_module_version": "1.2.0",
      "_model_name": "LayoutModel",
      "_view_count": null,
      "_view_module": "@jupyter-widgets/base",
      "_view_module_version": "1.2.0",
      "_view_name": "LayoutView",
      "align_content": null,
      "align_items": null,
      "align_self": null,
      "border": null,
      "bottom": null,
      "display": null,
      "flex": null,
      "flex_flow": null,
      "grid_area": null,
      "grid_auto_columns": null,
      "grid_auto_flow": null,
      "grid_auto_rows": null,
      "grid_column": null,
      "grid_gap": null,
      "grid_row": null,
      "grid_template_areas": null,
      "grid_template_columns": null,
      "grid_template_rows": null,
      "height": null,
      "justify_content": null,
      "justify_items": null,
      "left": null,
      "margin": null,
      "max_height": null,
      "max_width": null,
      "min_height": null,
      "min_width": null,
      "object_fit": null,
      "object_position": null,
      "order": null,
      "overflow": null,
      "overflow_x": null,
      "overflow_y": null,
      "padding": null,
      "right": null,
      "top": null,
      "visibility": null,
      "width": null
     }
    },
    "536905d2412d45428a1d0abd2be8e9bc": {
     "model_module": "@jupyter-widgets/base",
     "model_module_version": "1.2.0",
     "model_name": "LayoutModel",
     "state": {
      "_model_module": "@jupyter-widgets/base",
      "_model_module_version": "1.2.0",
      "_model_name": "LayoutModel",
      "_view_count": null,
      "_view_module": "@jupyter-widgets/base",
      "_view_module_version": "1.2.0",
      "_view_name": "LayoutView",
      "align_content": null,
      "align_items": null,
      "align_self": null,
      "border": null,
      "bottom": null,
      "display": null,
      "flex": null,
      "flex_flow": null,
      "grid_area": null,
      "grid_auto_columns": null,
      "grid_auto_flow": null,
      "grid_auto_rows": null,
      "grid_column": null,
      "grid_gap": null,
      "grid_row": null,
      "grid_template_areas": null,
      "grid_template_columns": null,
      "grid_template_rows": null,
      "height": null,
      "justify_content": null,
      "justify_items": null,
      "left": null,
      "margin": null,
      "max_height": null,
      "max_width": null,
      "min_height": null,
      "min_width": null,
      "object_fit": null,
      "object_position": null,
      "order": null,
      "overflow": null,
      "overflow_x": null,
      "overflow_y": null,
      "padding": null,
      "right": null,
      "top": null,
      "visibility": null,
      "width": null
     }
    },
    "5ae67e48c61d4c2095e119713656f5d1": {
     "model_module": "@jupyter-widgets/controls",
     "model_module_version": "1.5.0",
     "model_name": "HBoxModel",
     "state": {
      "_dom_classes": [],
      "_model_module": "@jupyter-widgets/controls",
      "_model_module_version": "1.5.0",
      "_model_name": "HBoxModel",
      "_view_count": null,
      "_view_module": "@jupyter-widgets/controls",
      "_view_module_version": "1.5.0",
      "_view_name": "HBoxView",
      "box_style": "",
      "children": [
       "IPY_MODEL_5bd037c07f5e46bca40530be415a93c6",
       "IPY_MODEL_d60e18bdebde458f8608c818f5c6ee86",
       "IPY_MODEL_efa92af6b52643a59443bedfc4937e19"
      ],
      "layout": "IPY_MODEL_8aef7d4989a04453acf82c67e4023bb4"
     }
    },
    "5bd037c07f5e46bca40530be415a93c6": {
     "model_module": "@jupyter-widgets/controls",
     "model_module_version": "1.5.0",
     "model_name": "HTMLModel",
     "state": {
      "_dom_classes": [],
      "_model_module": "@jupyter-widgets/controls",
      "_model_module_version": "1.5.0",
      "_model_name": "HTMLModel",
      "_view_count": null,
      "_view_module": "@jupyter-widgets/controls",
      "_view_module_version": "1.5.0",
      "_view_name": "HTMLView",
      "description": "",
      "description_tooltip": null,
      "layout": "IPY_MODEL_78cd2979bb06465c94789710843a50db",
      "placeholder": "​",
      "style": "IPY_MODEL_4f5af2394218415abf9d72f86bcc76fa",
      "value": "100%"
     }
    },
    "6a631f56449a43e780e41ff5ae10eb35": {
     "model_module": "@jupyter-widgets/controls",
     "model_module_version": "1.5.0",
     "model_name": "HTMLModel",
     "state": {
      "_dom_classes": [],
      "_model_module": "@jupyter-widgets/controls",
      "_model_module_version": "1.5.0",
      "_model_name": "HTMLModel",
      "_view_count": null,
      "_view_module": "@jupyter-widgets/controls",
      "_view_module_version": "1.5.0",
      "_view_name": "HTMLView",
      "description": "",
      "description_tooltip": null,
      "layout": "IPY_MODEL_14b6f03f490d40ef85a6e7ce24fdafb8",
      "placeholder": "​",
      "style": "IPY_MODEL_b4e8ce0b3f134dbea6a522099f53e94e",
      "value": " 112/112 [00:18&lt;00:00,  5.95it/s]"
     }
    },
    "6c46606786a74d61998352c2a8ee7a5d": {
     "model_module": "@jupyter-widgets/base",
     "model_module_version": "1.2.0",
     "model_name": "LayoutModel",
     "state": {
      "_model_module": "@jupyter-widgets/base",
      "_model_module_version": "1.2.0",
      "_model_name": "LayoutModel",
      "_view_count": null,
      "_view_module": "@jupyter-widgets/base",
      "_view_module_version": "1.2.0",
      "_view_name": "LayoutView",
      "align_content": null,
      "align_items": null,
      "align_self": null,
      "border": null,
      "bottom": null,
      "display": null,
      "flex": null,
      "flex_flow": null,
      "grid_area": null,
      "grid_auto_columns": null,
      "grid_auto_flow": null,
      "grid_auto_rows": null,
      "grid_column": null,
      "grid_gap": null,
      "grid_row": null,
      "grid_template_areas": null,
      "grid_template_columns": null,
      "grid_template_rows": null,
      "height": null,
      "justify_content": null,
      "justify_items": null,
      "left": null,
      "margin": null,
      "max_height": null,
      "max_width": null,
      "min_height": null,
      "min_width": null,
      "object_fit": null,
      "object_position": null,
      "order": null,
      "overflow": null,
      "overflow_x": null,
      "overflow_y": null,
      "padding": null,
      "right": null,
      "top": null,
      "visibility": null,
      "width": null
     }
    },
    "78cd2979bb06465c94789710843a50db": {
     "model_module": "@jupyter-widgets/base",
     "model_module_version": "1.2.0",
     "model_name": "LayoutModel",
     "state": {
      "_model_module": "@jupyter-widgets/base",
      "_model_module_version": "1.2.0",
      "_model_name": "LayoutModel",
      "_view_count": null,
      "_view_module": "@jupyter-widgets/base",
      "_view_module_version": "1.2.0",
      "_view_name": "LayoutView",
      "align_content": null,
      "align_items": null,
      "align_self": null,
      "border": null,
      "bottom": null,
      "display": null,
      "flex": null,
      "flex_flow": null,
      "grid_area": null,
      "grid_auto_columns": null,
      "grid_auto_flow": null,
      "grid_auto_rows": null,
      "grid_column": null,
      "grid_gap": null,
      "grid_row": null,
      "grid_template_areas": null,
      "grid_template_columns": null,
      "grid_template_rows": null,
      "height": null,
      "justify_content": null,
      "justify_items": null,
      "left": null,
      "margin": null,
      "max_height": null,
      "max_width": null,
      "min_height": null,
      "min_width": null,
      "object_fit": null,
      "object_position": null,
      "order": null,
      "overflow": null,
      "overflow_x": null,
      "overflow_y": null,
      "padding": null,
      "right": null,
      "top": null,
      "visibility": null,
      "width": null
     }
    },
    "7c2fe6730b304cd0a23c0de22ec67f8b": {
     "model_module": "@jupyter-widgets/controls",
     "model_module_version": "1.5.0",
     "model_name": "FloatProgressModel",
     "state": {
      "_dom_classes": [],
      "_model_module": "@jupyter-widgets/controls",
      "_model_module_version": "1.5.0",
      "_model_name": "FloatProgressModel",
      "_view_count": null,
      "_view_module": "@jupyter-widgets/controls",
      "_view_module_version": "1.5.0",
      "_view_name": "ProgressView",
      "bar_style": "success",
      "description": "",
      "description_tooltip": null,
      "layout": "IPY_MODEL_3410318e249145c5b01e5f8d7d404e6f",
      "max": 112,
      "min": 0,
      "orientation": "horizontal",
      "style": "IPY_MODEL_a83ab179aa3a4a609c1586fa67cce897",
      "value": 112
     }
    },
    "7d2954e39f33470eb42f3375e765c756": {
     "model_module": "@jupyter-widgets/controls",
     "model_module_version": "1.5.0",
     "model_name": "DescriptionStyleModel",
     "state": {
      "_model_module": "@jupyter-widgets/controls",
      "_model_module_version": "1.5.0",
      "_model_name": "DescriptionStyleModel",
      "_view_count": null,
      "_view_module": "@jupyter-widgets/base",
      "_view_module_version": "1.2.0",
      "_view_name": "StyleView",
      "description_width": ""
     }
    },
    "81179500be004d33886aec07bd397610": {
     "model_module": "@jupyter-widgets/controls",
     "model_module_version": "1.5.0",
     "model_name": "HTMLModel",
     "state": {
      "_dom_classes": [],
      "_model_module": "@jupyter-widgets/controls",
      "_model_module_version": "1.5.0",
      "_model_name": "HTMLModel",
      "_view_count": null,
      "_view_module": "@jupyter-widgets/controls",
      "_view_module_version": "1.5.0",
      "_view_name": "HTMLView",
      "description": "",
      "description_tooltip": null,
      "layout": "IPY_MODEL_d2ea2955db8b451d9db6c80bb0e4ea04",
      "placeholder": "​",
      "style": "IPY_MODEL_a7736b81fc5a40018ae64a731b83b2f1",
      "value": "100%"
     }
    },
    "8aef7d4989a04453acf82c67e4023bb4": {
     "model_module": "@jupyter-widgets/base",
     "model_module_version": "1.2.0",
     "model_name": "LayoutModel",
     "state": {
      "_model_module": "@jupyter-widgets/base",
      "_model_module_version": "1.2.0",
      "_model_name": "LayoutModel",
      "_view_count": null,
      "_view_module": "@jupyter-widgets/base",
      "_view_module_version": "1.2.0",
      "_view_name": "LayoutView",
      "align_content": null,
      "align_items": null,
      "align_self": null,
      "border": null,
      "bottom": null,
      "display": null,
      "flex": null,
      "flex_flow": null,
      "grid_area": null,
      "grid_auto_columns": null,
      "grid_auto_flow": null,
      "grid_auto_rows": null,
      "grid_column": null,
      "grid_gap": null,
      "grid_row": null,
      "grid_template_areas": null,
      "grid_template_columns": null,
      "grid_template_rows": null,
      "height": null,
      "justify_content": null,
      "justify_items": null,
      "left": null,
      "margin": null,
      "max_height": null,
      "max_width": null,
      "min_height": null,
      "min_width": null,
      "object_fit": null,
      "object_position": null,
      "order": null,
      "overflow": null,
      "overflow_x": null,
      "overflow_y": null,
      "padding": null,
      "right": null,
      "top": null,
      "visibility": null,
      "width": null
     }
    },
    "8bce18232edd42749d201b2ed06aaf36": {
     "model_module": "@jupyter-widgets/controls",
     "model_module_version": "1.5.0",
     "model_name": "FloatProgressModel",
     "state": {
      "_dom_classes": [],
      "_model_module": "@jupyter-widgets/controls",
      "_model_module_version": "1.5.0",
      "_model_name": "FloatProgressModel",
      "_view_count": null,
      "_view_module": "@jupyter-widgets/controls",
      "_view_module_version": "1.5.0",
      "_view_name": "ProgressView",
      "bar_style": "success",
      "description": "",
      "description_tooltip": null,
      "layout": "IPY_MODEL_17cebc8648804e8fbf53dc7257aaaeda",
      "max": 112,
      "min": 0,
      "orientation": "horizontal",
      "style": "IPY_MODEL_e455eee7c80446f6b4610e6193de5ffe",
      "value": 112
     }
    },
    "9323058cd2384030a74f1e8d678837e9": {
     "model_module": "@jupyter-widgets/controls",
     "model_module_version": "1.5.0",
     "model_name": "FloatProgressModel",
     "state": {
      "_dom_classes": [],
      "_model_module": "@jupyter-widgets/controls",
      "_model_module_version": "1.5.0",
      "_model_name": "FloatProgressModel",
      "_view_count": null,
      "_view_module": "@jupyter-widgets/controls",
      "_view_module_version": "1.5.0",
      "_view_name": "ProgressView",
      "bar_style": "success",
      "description": "",
      "description_tooltip": null,
      "layout": "IPY_MODEL_3fcea00442a24d399a2439452265c6e4",
      "max": 112,
      "min": 0,
      "orientation": "horizontal",
      "style": "IPY_MODEL_3359ff1b6e6b43b0a4b679a5fbd2ba3e",
      "value": 112
     }
    },
    "96cb31b7952d4cea8c67a13cd9eb26a8": {
     "model_module": "@jupyter-widgets/controls",
     "model_module_version": "1.5.0",
     "model_name": "HBoxModel",
     "state": {
      "_dom_classes": [],
      "_model_module": "@jupyter-widgets/controls",
      "_model_module_version": "1.5.0",
      "_model_name": "HBoxModel",
      "_view_count": null,
      "_view_module": "@jupyter-widgets/controls",
      "_view_module_version": "1.5.0",
      "_view_name": "HBoxView",
      "box_style": "",
      "children": [
       "IPY_MODEL_f892295dd713449d9de30f773f3bb0ab",
       "IPY_MODEL_8bce18232edd42749d201b2ed06aaf36",
       "IPY_MODEL_e7788f12b5944aa2867c386a8e273c49"
      ],
      "layout": "IPY_MODEL_3c4c8af813ef4a908c03daf50610f94b"
     }
    },
    "a7736b81fc5a40018ae64a731b83b2f1": {
     "model_module": "@jupyter-widgets/controls",
     "model_module_version": "1.5.0",
     "model_name": "DescriptionStyleModel",
     "state": {
      "_model_module": "@jupyter-widgets/controls",
      "_model_module_version": "1.5.0",
      "_model_name": "DescriptionStyleModel",
      "_view_count": null,
      "_view_module": "@jupyter-widgets/base",
      "_view_module_version": "1.2.0",
      "_view_name": "StyleView",
      "description_width": ""
     }
    },
    "a83ab179aa3a4a609c1586fa67cce897": {
     "model_module": "@jupyter-widgets/controls",
     "model_module_version": "1.5.0",
     "model_name": "ProgressStyleModel",
     "state": {
      "_model_module": "@jupyter-widgets/controls",
      "_model_module_version": "1.5.0",
      "_model_name": "ProgressStyleModel",
      "_view_count": null,
      "_view_module": "@jupyter-widgets/base",
      "_view_module_version": "1.2.0",
      "_view_name": "StyleView",
      "bar_color": null,
      "description_width": ""
     }
    },
    "b4e8ce0b3f134dbea6a522099f53e94e": {
     "model_module": "@jupyter-widgets/controls",
     "model_module_version": "1.5.0",
     "model_name": "DescriptionStyleModel",
     "state": {
      "_model_module": "@jupyter-widgets/controls",
      "_model_module_version": "1.5.0",
      "_model_name": "DescriptionStyleModel",
      "_view_count": null,
      "_view_module": "@jupyter-widgets/base",
      "_view_module_version": "1.2.0",
      "_view_name": "StyleView",
      "description_width": ""
     }
    },
    "c28b0352fa534153a491d26eebf5e3fb": {
     "model_module": "@jupyter-widgets/controls",
     "model_module_version": "1.5.0",
     "model_name": "HTMLModel",
     "state": {
      "_dom_classes": [],
      "_model_module": "@jupyter-widgets/controls",
      "_model_module_version": "1.5.0",
      "_model_name": "HTMLModel",
      "_view_count": null,
      "_view_module": "@jupyter-widgets/controls",
      "_view_module_version": "1.5.0",
      "_view_name": "HTMLView",
      "description": "",
      "description_tooltip": null,
      "layout": "IPY_MODEL_2b12cf037590462ba31bb96f7424964d",
      "placeholder": "​",
      "style": "IPY_MODEL_05edd37ab4df4dc7ad41203be2ab7057",
      "value": " 112/112 [00:28&lt;00:00,  3.88it/s]"
     }
    },
    "d2ea2955db8b451d9db6c80bb0e4ea04": {
     "model_module": "@jupyter-widgets/base",
     "model_module_version": "1.2.0",
     "model_name": "LayoutModel",
     "state": {
      "_model_module": "@jupyter-widgets/base",
      "_model_module_version": "1.2.0",
      "_model_name": "LayoutModel",
      "_view_count": null,
      "_view_module": "@jupyter-widgets/base",
      "_view_module_version": "1.2.0",
      "_view_name": "LayoutView",
      "align_content": null,
      "align_items": null,
      "align_self": null,
      "border": null,
      "bottom": null,
      "display": null,
      "flex": null,
      "flex_flow": null,
      "grid_area": null,
      "grid_auto_columns": null,
      "grid_auto_flow": null,
      "grid_auto_rows": null,
      "grid_column": null,
      "grid_gap": null,
      "grid_row": null,
      "grid_template_areas": null,
      "grid_template_columns": null,
      "grid_template_rows": null,
      "height": null,
      "justify_content": null,
      "justify_items": null,
      "left": null,
      "margin": null,
      "max_height": null,
      "max_width": null,
      "min_height": null,
      "min_width": null,
      "object_fit": null,
      "object_position": null,
      "order": null,
      "overflow": null,
      "overflow_x": null,
      "overflow_y": null,
      "padding": null,
      "right": null,
      "top": null,
      "visibility": null,
      "width": null
     }
    },
    "d60e18bdebde458f8608c818f5c6ee86": {
     "model_module": "@jupyter-widgets/controls",
     "model_module_version": "1.5.0",
     "model_name": "FloatProgressModel",
     "state": {
      "_dom_classes": [],
      "_model_module": "@jupyter-widgets/controls",
      "_model_module_version": "1.5.0",
      "_model_name": "FloatProgressModel",
      "_view_count": null,
      "_view_module": "@jupyter-widgets/controls",
      "_view_module_version": "1.5.0",
      "_view_name": "ProgressView",
      "bar_style": "success",
      "description": "",
      "description_tooltip": null,
      "layout": "IPY_MODEL_deea0ff0d4d545ada427d657a3ce7820",
      "max": 112,
      "min": 0,
      "orientation": "horizontal",
      "style": "IPY_MODEL_4f026354b5b145feb707d1af0e2e5f7b",
      "value": 112
     }
    },
    "deb20131f5f84c438fdd221fcdf2d46d": {
     "model_module": "@jupyter-widgets/base",
     "model_module_version": "1.2.0",
     "model_name": "LayoutModel",
     "state": {
      "_model_module": "@jupyter-widgets/base",
      "_model_module_version": "1.2.0",
      "_model_name": "LayoutModel",
      "_view_count": null,
      "_view_module": "@jupyter-widgets/base",
      "_view_module_version": "1.2.0",
      "_view_name": "LayoutView",
      "align_content": null,
      "align_items": null,
      "align_self": null,
      "border": null,
      "bottom": null,
      "display": null,
      "flex": null,
      "flex_flow": null,
      "grid_area": null,
      "grid_auto_columns": null,
      "grid_auto_flow": null,
      "grid_auto_rows": null,
      "grid_column": null,
      "grid_gap": null,
      "grid_row": null,
      "grid_template_areas": null,
      "grid_template_columns": null,
      "grid_template_rows": null,
      "height": null,
      "justify_content": null,
      "justify_items": null,
      "left": null,
      "margin": null,
      "max_height": null,
      "max_width": null,
      "min_height": null,
      "min_width": null,
      "object_fit": null,
      "object_position": null,
      "order": null,
      "overflow": null,
      "overflow_x": null,
      "overflow_y": null,
      "padding": null,
      "right": null,
      "top": null,
      "visibility": null,
      "width": null
     }
    },
    "deea0ff0d4d545ada427d657a3ce7820": {
     "model_module": "@jupyter-widgets/base",
     "model_module_version": "1.2.0",
     "model_name": "LayoutModel",
     "state": {
      "_model_module": "@jupyter-widgets/base",
      "_model_module_version": "1.2.0",
      "_model_name": "LayoutModel",
      "_view_count": null,
      "_view_module": "@jupyter-widgets/base",
      "_view_module_version": "1.2.0",
      "_view_name": "LayoutView",
      "align_content": null,
      "align_items": null,
      "align_self": null,
      "border": null,
      "bottom": null,
      "display": null,
      "flex": null,
      "flex_flow": null,
      "grid_area": null,
      "grid_auto_columns": null,
      "grid_auto_flow": null,
      "grid_auto_rows": null,
      "grid_column": null,
      "grid_gap": null,
      "grid_row": null,
      "grid_template_areas": null,
      "grid_template_columns": null,
      "grid_template_rows": null,
      "height": null,
      "justify_content": null,
      "justify_items": null,
      "left": null,
      "margin": null,
      "max_height": null,
      "max_width": null,
      "min_height": null,
      "min_width": null,
      "object_fit": null,
      "object_position": null,
      "order": null,
      "overflow": null,
      "overflow_x": null,
      "overflow_y": null,
      "padding": null,
      "right": null,
      "top": null,
      "visibility": null,
      "width": null
     }
    },
    "df273d0d969d47d59a8c200e853d8e2f": {
     "model_module": "@jupyter-widgets/controls",
     "model_module_version": "1.5.0",
     "model_name": "HBoxModel",
     "state": {
      "_dom_classes": [],
      "_model_module": "@jupyter-widgets/controls",
      "_model_module_version": "1.5.0",
      "_model_name": "HBoxModel",
      "_view_count": null,
      "_view_module": "@jupyter-widgets/controls",
      "_view_module_version": "1.5.0",
      "_view_name": "HBoxView",
      "box_style": "",
      "children": [
       "IPY_MODEL_81179500be004d33886aec07bd397610",
       "IPY_MODEL_9323058cd2384030a74f1e8d678837e9",
       "IPY_MODEL_6a631f56449a43e780e41ff5ae10eb35"
      ],
      "layout": "IPY_MODEL_6c46606786a74d61998352c2a8ee7a5d"
     }
    },
    "e455eee7c80446f6b4610e6193de5ffe": {
     "model_module": "@jupyter-widgets/controls",
     "model_module_version": "1.5.0",
     "model_name": "ProgressStyleModel",
     "state": {
      "_model_module": "@jupyter-widgets/controls",
      "_model_module_version": "1.5.0",
      "_model_name": "ProgressStyleModel",
      "_view_count": null,
      "_view_module": "@jupyter-widgets/base",
      "_view_module_version": "1.2.0",
      "_view_name": "StyleView",
      "bar_color": null,
      "description_width": ""
     }
    },
    "e7788f12b5944aa2867c386a8e273c49": {
     "model_module": "@jupyter-widgets/controls",
     "model_module_version": "1.5.0",
     "model_name": "HTMLModel",
     "state": {
      "_dom_classes": [],
      "_model_module": "@jupyter-widgets/controls",
      "_model_module_version": "1.5.0",
      "_model_name": "HTMLModel",
      "_view_count": null,
      "_view_module": "@jupyter-widgets/controls",
      "_view_module_version": "1.5.0",
      "_view_name": "HTMLView",
      "description": "",
      "description_tooltip": null,
      "layout": "IPY_MODEL_ed78aebf0cfc4cc8b149c0c8b7e89057",
      "placeholder": "​",
      "style": "IPY_MODEL_34ab6006feec464686c80d062be98b9c",
      "value": " 112/112 [01:36&lt;00:00,  1.15it/s]"
     }
    },
    "ed78aebf0cfc4cc8b149c0c8b7e89057": {
     "model_module": "@jupyter-widgets/base",
     "model_module_version": "1.2.0",
     "model_name": "LayoutModel",
     "state": {
      "_model_module": "@jupyter-widgets/base",
      "_model_module_version": "1.2.0",
      "_model_name": "LayoutModel",
      "_view_count": null,
      "_view_module": "@jupyter-widgets/base",
      "_view_module_version": "1.2.0",
      "_view_name": "LayoutView",
      "align_content": null,
      "align_items": null,
      "align_self": null,
      "border": null,
      "bottom": null,
      "display": null,
      "flex": null,
      "flex_flow": null,
      "grid_area": null,
      "grid_auto_columns": null,
      "grid_auto_flow": null,
      "grid_auto_rows": null,
      "grid_column": null,
      "grid_gap": null,
      "grid_row": null,
      "grid_template_areas": null,
      "grid_template_columns": null,
      "grid_template_rows": null,
      "height": null,
      "justify_content": null,
      "justify_items": null,
      "left": null,
      "margin": null,
      "max_height": null,
      "max_width": null,
      "min_height": null,
      "min_width": null,
      "object_fit": null,
      "object_position": null,
      "order": null,
      "overflow": null,
      "overflow_x": null,
      "overflow_y": null,
      "padding": null,
      "right": null,
      "top": null,
      "visibility": null,
      "width": null
     }
    },
    "efa92af6b52643a59443bedfc4937e19": {
     "model_module": "@jupyter-widgets/controls",
     "model_module_version": "1.5.0",
     "model_name": "HTMLModel",
     "state": {
      "_dom_classes": [],
      "_model_module": "@jupyter-widgets/controls",
      "_model_module_version": "1.5.0",
      "_model_name": "HTMLModel",
      "_view_count": null,
      "_view_module": "@jupyter-widgets/controls",
      "_view_module_version": "1.5.0",
      "_view_name": "HTMLView",
      "description": "",
      "description_tooltip": null,
      "layout": "IPY_MODEL_3577289127a940cc8747d585bbd58d30",
      "placeholder": "​",
      "style": "IPY_MODEL_7d2954e39f33470eb42f3375e765c756",
      "value": " 112/112 [00:34&lt;00:00,  3.34it/s]"
     }
    },
    "f7afba76bfd34e6380660326de542d15": {
     "model_module": "@jupyter-widgets/controls",
     "model_module_version": "1.5.0",
     "model_name": "HTMLModel",
     "state": {
      "_dom_classes": [],
      "_model_module": "@jupyter-widgets/controls",
      "_model_module_version": "1.5.0",
      "_model_name": "HTMLModel",
      "_view_count": null,
      "_view_module": "@jupyter-widgets/controls",
      "_view_module_version": "1.5.0",
      "_view_name": "HTMLView",
      "description": "",
      "description_tooltip": null,
      "layout": "IPY_MODEL_536905d2412d45428a1d0abd2be8e9bc",
      "placeholder": "​",
      "style": "IPY_MODEL_1084da3a531c47dc9bb2931d7b83dfeb",
      "value": "100%"
     }
    },
    "f892295dd713449d9de30f773f3bb0ab": {
     "model_module": "@jupyter-widgets/controls",
     "model_module_version": "1.5.0",
     "model_name": "HTMLModel",
     "state": {
      "_dom_classes": [],
      "_model_module": "@jupyter-widgets/controls",
      "_model_module_version": "1.5.0",
      "_model_name": "HTMLModel",
      "_view_count": null,
      "_view_module": "@jupyter-widgets/controls",
      "_view_module_version": "1.5.0",
      "_view_name": "HTMLView",
      "description": "",
      "description_tooltip": null,
      "layout": "IPY_MODEL_deb20131f5f84c438fdd221fcdf2d46d",
      "placeholder": "​",
      "style": "IPY_MODEL_3452c6b0d208485b88aed22803ab0995",
      "value": "100%"
     }
    }
   }
  }
 },
 "nbformat": 4,
 "nbformat_minor": 1
}
